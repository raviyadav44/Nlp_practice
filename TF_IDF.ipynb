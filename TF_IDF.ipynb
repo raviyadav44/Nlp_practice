{
  "nbformat": 4,
  "nbformat_minor": 0,
  "metadata": {
    "colab": {
      "name": "TF-IDF.ipynb",
      "provenance": [],
      "mount_file_id": "1z1StvvamgpCWQM6l45eBC8rPZSZ1s2sd",
      "authorship_tag": "ABX9TyN2dO6i9P9Zg4sOp7Vx4X9N",
      "include_colab_link": true
    },
    "kernelspec": {
      "name": "python3",
      "display_name": "Python 3"
    }
  },
  "cells": [
    {
      "cell_type": "markdown",
      "metadata": {
        "id": "view-in-github",
        "colab_type": "text"
      },
      "source": [
        "<a href=\"https://colab.research.google.com/github/raviyadav44/Nlp_practice/blob/main/TF_IDF.ipynb\" target=\"_parent\"><img src=\"https://colab.research.google.com/assets/colab-badge.svg\" alt=\"Open In Colab\"/></a>"
      ]
    },
    {
      "cell_type": "code",
      "metadata": {
        "id": "tB_fIhEN9Amp"
      },
      "source": [
        "import nltk\r\n"
      ],
      "execution_count": 1,
      "outputs": []
    },
    {
      "cell_type": "code",
      "metadata": {
        "id": "dGSYav5c9DS7"
      },
      "source": [
        "#nltk.download()"
      ],
      "execution_count": 2,
      "outputs": []
    },
    {
      "cell_type": "code",
      "metadata": {
        "id": "oU5-5ob09Flu"
      },
      "source": [
        "import pandas as pd\r\n",
        "import matplotlib.pyplot as plt\r\n",
        "import seaborn as sns\r\n",
        "import numpy as np\r\n",
        "from nltk.corpus import stopwords\r\n",
        "from nltk.util import ngrams\r\n",
        "from sklearn.feature_extraction.text import CountVectorizer\r\n",
        "from collections import defaultdict\r\n",
        "from collections import  Counter\r\n",
        "plt.style.use('ggplot')\r\n",
        "stop=set(stopwords.words('english'))\r\n",
        "import re\r\n",
        "from nltk.tokenize import word_tokenize\r\n",
        "import gensim\r\n",
        "import string\r\n",
        "from keras.preprocessing.text import Tokenizer\r\n",
        "from keras.preprocessing.sequence import pad_sequences\r\n",
        "from tqdm import tqdm\r\n",
        "from keras.models import Sequential\r\n",
        "from keras.layers import Embedding,LSTM,Dense,SpatialDropout1D\r\n",
        "from keras.initializers import Constant\r\n",
        "from sklearn.model_selection import train_test_split\r\n",
        "from keras.optimizers import Adam"
      ],
      "execution_count": 3,
      "outputs": []
    },
    {
      "cell_type": "code",
      "metadata": {
        "id": "aHMxCiGr9Z_J"
      },
      "source": [
        "train=pd.read_csv(\"/content/drive/MyDrive/twitter_fake_news/train_fake_news.csv\")\r\n",
        "test=pd.read_csv(\"/content/drive/MyDrive/twitter_fake_news/test_fake_news.csv\")\r\n"
      ],
      "execution_count": 4,
      "outputs": []
    },
    {
      "cell_type": "code",
      "metadata": {
        "colab": {
          "base_uri": "https://localhost:8080/",
          "height": 195
        },
        "id": "vbkwyq7C_JXp",
        "outputId": "f7aa8382-6415-42b3-b1aa-5a9d429b8087"
      },
      "source": [
        "train.head()"
      ],
      "execution_count": 5,
      "outputs": [
        {
          "output_type": "execute_result",
          "data": {
            "text/html": [
              "<div>\n",
              "<style scoped>\n",
              "    .dataframe tbody tr th:only-of-type {\n",
              "        vertical-align: middle;\n",
              "    }\n",
              "\n",
              "    .dataframe tbody tr th {\n",
              "        vertical-align: top;\n",
              "    }\n",
              "\n",
              "    .dataframe thead th {\n",
              "        text-align: right;\n",
              "    }\n",
              "</style>\n",
              "<table border=\"1\" class=\"dataframe\">\n",
              "  <thead>\n",
              "    <tr style=\"text-align: right;\">\n",
              "      <th></th>\n",
              "      <th>id</th>\n",
              "      <th>keyword</th>\n",
              "      <th>location</th>\n",
              "      <th>text</th>\n",
              "      <th>target</th>\n",
              "    </tr>\n",
              "  </thead>\n",
              "  <tbody>\n",
              "    <tr>\n",
              "      <th>0</th>\n",
              "      <td>1</td>\n",
              "      <td>NaN</td>\n",
              "      <td>NaN</td>\n",
              "      <td>Our Deeds are the Reason of this #earthquake M...</td>\n",
              "      <td>1</td>\n",
              "    </tr>\n",
              "    <tr>\n",
              "      <th>1</th>\n",
              "      <td>4</td>\n",
              "      <td>NaN</td>\n",
              "      <td>NaN</td>\n",
              "      <td>Forest fire near La Ronge Sask. Canada</td>\n",
              "      <td>1</td>\n",
              "    </tr>\n",
              "    <tr>\n",
              "      <th>2</th>\n",
              "      <td>5</td>\n",
              "      <td>NaN</td>\n",
              "      <td>NaN</td>\n",
              "      <td>All residents asked to 'shelter in place' are ...</td>\n",
              "      <td>1</td>\n",
              "    </tr>\n",
              "    <tr>\n",
              "      <th>3</th>\n",
              "      <td>6</td>\n",
              "      <td>NaN</td>\n",
              "      <td>NaN</td>\n",
              "      <td>13,000 people receive #wildfires evacuation or...</td>\n",
              "      <td>1</td>\n",
              "    </tr>\n",
              "    <tr>\n",
              "      <th>4</th>\n",
              "      <td>7</td>\n",
              "      <td>NaN</td>\n",
              "      <td>NaN</td>\n",
              "      <td>Just got sent this photo from Ruby #Alaska as ...</td>\n",
              "      <td>1</td>\n",
              "    </tr>\n",
              "  </tbody>\n",
              "</table>\n",
              "</div>"
            ],
            "text/plain": [
              "   id keyword  ...                                               text target\n",
              "0   1     NaN  ...  Our Deeds are the Reason of this #earthquake M...      1\n",
              "1   4     NaN  ...             Forest fire near La Ronge Sask. Canada      1\n",
              "2   5     NaN  ...  All residents asked to 'shelter in place' are ...      1\n",
              "3   6     NaN  ...  13,000 people receive #wildfires evacuation or...      1\n",
              "4   7     NaN  ...  Just got sent this photo from Ruby #Alaska as ...      1\n",
              "\n",
              "[5 rows x 5 columns]"
            ]
          },
          "metadata": {
            "tags": []
          },
          "execution_count": 5
        }
      ]
    },
    {
      "cell_type": "code",
      "metadata": {
        "colab": {
          "base_uri": "https://localhost:8080/"
        },
        "id": "DyK9R2ux_Owi",
        "outputId": "6e0e0474-ebac-40a4-cf46-a260f749cf07"
      },
      "source": [
        "train.info()"
      ],
      "execution_count": 6,
      "outputs": [
        {
          "output_type": "stream",
          "text": [
            "<class 'pandas.core.frame.DataFrame'>\n",
            "RangeIndex: 7613 entries, 0 to 7612\n",
            "Data columns (total 5 columns):\n",
            " #   Column    Non-Null Count  Dtype \n",
            "---  ------    --------------  ----- \n",
            " 0   id        7613 non-null   int64 \n",
            " 1   keyword   7552 non-null   object\n",
            " 2   location  5080 non-null   object\n",
            " 3   text      7613 non-null   object\n",
            " 4   target    7613 non-null   int64 \n",
            "dtypes: int64(2), object(3)\n",
            "memory usage: 297.5+ KB\n"
          ],
          "name": "stdout"
        }
      ]
    },
    {
      "cell_type": "code",
      "metadata": {
        "id": "8HuBR1g2MPuy",
        "colab": {
          "base_uri": "https://localhost:8080/",
          "height": 315
        },
        "outputId": "1b2d4a6d-7f61-4e9f-e41e-8d7eed923938"
      },
      "source": [
        "plt.hist(train['target'],bins=5,label=[0,1])"
      ],
      "execution_count": 7,
      "outputs": [
        {
          "output_type": "execute_result",
          "data": {
            "text/plain": [
              "(array([4342.,    0.,    0.,    0., 3271.]),\n",
              " array([0. , 0.2, 0.4, 0.6, 0.8, 1. ]),\n",
              " <a list of 5 Patch objects>)"
            ]
          },
          "metadata": {
            "tags": []
          },
          "execution_count": 7
        },
        {
          "output_type": "display_data",
          "data": {
            "image/png": "[encoded data removed]",
            "text/plain": [
              "<Figure size 432x288 with 1 Axes>"
            ]
          },
          "metadata": {
            "tags": []
          }
        }
      ]
    },
    {
      "cell_type": "code",
      "metadata": {
        "colab": {
          "base_uri": "https://localhost:8080/"
        },
        "id": "IN3yK74dk4XZ",
        "outputId": "9b9d7f9b-1ae8-4599-9eb3-23252fc96849"
      },
      "source": [
        "train['location'].isnull().sum()"
      ],
      "execution_count": 8,
      "outputs": [
        {
          "output_type": "execute_result",
          "data": {
            "text/plain": [
              "2533"
            ]
          },
          "metadata": {
            "tags": []
          },
          "execution_count": 8
        }
      ]
    },
    {
      "cell_type": "code",
      "metadata": {
        "id": "ewQkya0S_S0X"
      },
      "source": [
        "d=train.drop(['id','keyword','location','target'],axis=1)"
      ],
      "execution_count": 9,
      "outputs": []
    },
    {
      "cell_type": "code",
      "metadata": {
        "colab": {
          "base_uri": "https://localhost:8080/"
        },
        "id": "fx11DflMArBG",
        "outputId": "0c410a37-d123-46e6-cfd8-5a6af39f0978"
      },
      "source": [
        "d.shape"
      ],
      "execution_count": 10,
      "outputs": [
        {
          "output_type": "execute_result",
          "data": {
            "text/plain": [
              "(7613, 1)"
            ]
          },
          "metadata": {
            "tags": []
          },
          "execution_count": 10
        }
      ]
    },
    {
      "cell_type": "code",
      "metadata": {
        "id": "WQa5SMBWAAFe"
      },
      "source": [
        "train.drop_duplicates(keep='first',inplace=True)"
      ],
      "execution_count": 11,
      "outputs": []
    },
    {
      "cell_type": "code",
      "metadata": {
        "colab": {
          "base_uri": "https://localhost:8080/"
        },
        "id": "D1qvf_dGjDD-",
        "outputId": "9bbf2df5-7dc1-47a3-eae1-9e3b1a5907c4"
      },
      "source": [
        "train.isnull().sum()"
      ],
      "execution_count": 12,
      "outputs": [
        {
          "output_type": "execute_result",
          "data": {
            "text/plain": [
              "id             0\n",
              "keyword       61\n",
              "location    2533\n",
              "text           0\n",
              "target         0\n",
              "dtype: int64"
            ]
          },
          "metadata": {
            "tags": []
          },
          "execution_count": 12
        }
      ]
    },
    {
      "cell_type": "code",
      "metadata": {
        "id": "4tQU8DDktzjr"
      },
      "source": [
        "train=train.dropna()"
      ],
      "execution_count": 13,
      "outputs": []
    },
    {
      "cell_type": "code",
      "metadata": {
        "colab": {
          "base_uri": "https://localhost:8080/"
        },
        "id": "oqtRGK2ct5X1",
        "outputId": "fe231edc-0892-4770-e258-6fa7cad8da14"
      },
      "source": [
        "train.shape"
      ],
      "execution_count": 14,
      "outputs": [
        {
          "output_type": "execute_result",
          "data": {
            "text/plain": [
              "(5080, 5)"
            ]
          },
          "metadata": {
            "tags": []
          },
          "execution_count": 14
        }
      ]
    },
    {
      "cell_type": "code",
      "metadata": {
        "id": "B1jxnQVKyR3Y"
      },
      "source": [
        "import seaborn as sns\r\n",
        "sns.set()"
      ],
      "execution_count": 15,
      "outputs": []
    },
    {
      "cell_type": "code",
      "metadata": {
        "colab": {
          "base_uri": "https://localhost:8080/",
          "height": 341
        },
        "id": "JJ0cY_0TgnGE",
        "outputId": "e80a0e88-9944-436a-a080-6f81d7c64652"
      },
      "source": [
        "import seaborn as sns\r\n",
        "sns.countplot(\"target\",data=train);"
      ],
      "execution_count": 16,
      "outputs": [
        {
          "output_type": "stream",
          "text": [
            "/usr/local/lib/python3.6/dist-packages/seaborn/_decorators.py:43: FutureWarning: Pass the following variable as a keyword arg: x. From version 0.12, the only valid positional argument will be `data`, and passing other arguments without an explicit keyword will result in an error or misinterpretation.\n",
            "  FutureWarning\n"
          ],
          "name": "stderr"
        },
        {
          "output_type": "display_data",
          "data": {
            "image/png": "[encoded data removed]",
            "text/plain": [
              "<Figure size 432x288 with 1 Axes>"
            ]
          },
          "metadata": {
            "tags": []
          }
        }
      ]
    },
    {
      "cell_type": "code",
      "metadata": {
        "colab": {
          "base_uri": "https://localhost:8080/",
          "height": 35
        },
        "id": "s4ZaGBQi1ZC4",
        "outputId": "d0fc08e9-79a7-46bd-8826-ac47d9d1f546"
      },
      "source": [
        "train['text'][31]"
      ],
      "execution_count": 17,
      "outputs": [
        {
          "output_type": "execute_result",
          "data": {
            "application/vnd.google.colaboratory.intrinsic+json": {
              "type": "string"
            },
            "text/plain": [
              "'@bbcmtd Wholesale Markets ablaze http://t.co/lHYXEOHY6C'"
            ]
          },
          "metadata": {
            "tags": []
          },
          "execution_count": 17
        }
      ]
    },
    {
      "cell_type": "code",
      "metadata": {
        "id": "qK6eFVqf4DpE"
      },
      "source": [
        "message=train.copy()"
      ],
      "execution_count": 18,
      "outputs": []
    },
    {
      "cell_type": "code",
      "metadata": {
        "id": "ECd77mzD4S4b"
      },
      "source": [
        "message.reset_index(inplace=True)"
      ],
      "execution_count": 19,
      "outputs": []
    },
    {
      "cell_type": "code",
      "metadata": {
        "id": "A9abTJWO_x9B"
      },
      "source": [
        "#preprocessing of data\r\n",
        "import re\r\n",
        "from nltk.corpus import stopwords\r\n",
        "from nltk.stem import WordNetLemmatizer\r\n",
        "from nltk.stem import PorterStemmer\r\n",
        "lemma=WordNetLemmatizer()\r\n",
        "ps = PorterStemmer()\r\n",
        "def remove_URL(sample):\r\n",
        "    \"\"\"Remove URLs from a sample string\"\"\"\r\n",
        "    return re.sub(r\"http\\S+\", \"\", sample)\r\n",
        "corpus=[]\r\n",
        "for i in range(0,(len(message))):\r\n",
        "  words= remove_URL( message['text'][i])\r\n",
        "  words=re.sub('[^a-zA-Z]',' ',words)\r\n",
        "  words=re.sub('\\W',' ', words)\r\n",
        "  words=words.lower()\r\n",
        "  words=words.split()\r\n",
        "  words=[lemma.lemmatize(word) for word in words if word not in set(stopwords.words('english'))]\r\n",
        "  words=' '.join(words)\r\n",
        "  corpus.append(words)\r\n",
        "\r\n"
      ],
      "execution_count": 20,
      "outputs": []
    },
    {
      "cell_type": "code",
      "metadata": {
        "id": "-H95uKxSDDc_"
      },
      "source": [
        "from sklearn.feature_extraction.text import CountVectorizer, TfidfVectorizer, HashingVectorizer\r\n",
        "from sklearn.feature_extraction.text import TfidfVectorizer\r\n",
        "tfidf = TfidfVectorizer(max_features=1400,ngram_range=(1,3))\r\n",
        "X = tfidf.fit_transform(corpus).toarray()"
      ],
      "execution_count": 21,
      "outputs": []
    },
    {
      "cell_type": "code",
      "metadata": {
        "id": "kwkgLsqU4_8o"
      },
      "source": [
        "y=train['target']"
      ],
      "execution_count": 22,
      "outputs": []
    },
    {
      "cell_type": "code",
      "metadata": {
        "colab": {
          "base_uri": "https://localhost:8080/"
        },
        "id": "zEPuwMyFSsL9",
        "outputId": "82de5092-edac-4eaf-8c6c-0276d768c856"
      },
      "source": [
        "X.shape"
      ],
      "execution_count": 23,
      "outputs": [
        {
          "output_type": "execute_result",
          "data": {
            "text/plain": [
              "(5080, 1400)"
            ]
          },
          "metadata": {
            "tags": []
          },
          "execution_count": 23
        }
      ]
    },
    {
      "cell_type": "code",
      "metadata": {
        "id": "IjOOhbGtS8Jl"
      },
      "source": [
        "from sklearn.model_selection import train_test_split\r\n",
        "X_train, X_test, y_train, y_test = train_test_split(X, y, test_size=0.33, random_state=0)"
      ],
      "execution_count": 24,
      "outputs": []
    },
    {
      "cell_type": "code",
      "metadata": {
        "colab": {
          "base_uri": "https://localhost:8080/"
        },
        "id": "VzJ-hxYpTbnx",
        "outputId": "a9424e03-208f-4245-c010-333c750fccd9"
      },
      "source": [
        "tfidf.get_feature_names()[:20]"
      ],
      "execution_count": 25,
      "outputs": [
        {
          "output_type": "execute_result",
          "data": {
            "text/plain": [
              "['aba',\n",
              " 'aba woman',\n",
              " 'aba woman delivers',\n",
              " 'abc',\n",
              " 'ablaze',\n",
              " 'accident',\n",
              " 'account',\n",
              " 'across',\n",
              " 'act',\n",
              " 'action',\n",
              " 'actually',\n",
              " 'added',\n",
              " 'added video',\n",
              " 'added video youtube',\n",
              " 'affected',\n",
              " 'affected fatal',\n",
              " 'affected fatal outbreak',\n",
              " 'aftershock',\n",
              " 'ago',\n",
              " 'agree']"
            ]
          },
          "metadata": {
            "tags": []
          },
          "execution_count": 25
        }
      ]
    },
    {
      "cell_type": "code",
      "metadata": {
        "colab": {
          "base_uri": "https://localhost:8080/"
        },
        "id": "Gqb4PWtdTf8j",
        "outputId": "7799b52c-2d4f-431d-cae0-9b819cda8b38"
      },
      "source": [
        "tfidf.get_params()"
      ],
      "execution_count": 26,
      "outputs": [
        {
          "output_type": "execute_result",
          "data": {
            "text/plain": [
              "{'analyzer': 'word',\n",
              " 'binary': False,\n",
              " 'decode_error': 'strict',\n",
              " 'dtype': numpy.float64,\n",
              " 'encoding': 'utf-8',\n",
              " 'input': 'content',\n",
              " 'lowercase': True,\n",
              " 'max_df': 1.0,\n",
              " 'max_features': 1400,\n",
              " 'min_df': 1,\n",
              " 'ngram_range': (1, 3),\n",
              " 'norm': 'l2',\n",
              " 'preprocessor': None,\n",
              " 'smooth_idf': True,\n",
              " 'stop_words': None,\n",
              " 'strip_accents': None,\n",
              " 'sublinear_tf': False,\n",
              " 'token_pattern': '(?u)\\\\b\\\\w\\\\w+\\\\b',\n",
              " 'tokenizer': None,\n",
              " 'use_idf': True,\n",
              " 'vocabulary': None}"
            ]
          },
          "metadata": {
            "tags": []
          },
          "execution_count": 26
        }
      ]
    },
    {
      "cell_type": "code",
      "metadata": {
        "id": "kUK5lKKGTot6"
      },
      "source": [
        "def plot_confusion_matrix(cm, classes,\r\n",
        "                          normalize=False,\r\n",
        "                          title='Confusion matrix',\r\n",
        "                          cmap=plt.cm.Blues):\r\n",
        "    \"\"\"\r\n",
        "    See full source and example: \r\n",
        "    http://scikit-learn.org/stable/auto_examples/model_selection/plot_confusion_matrix.html\r\n",
        "    \r\n",
        "    This function prints and plots the confusion matrix.\r\n",
        "    Normalization can be applied by setting `normalize=True`.\r\n",
        "    \"\"\"\r\n",
        "    plt.imshow(cm, interpolation='nearest', cmap=cmap)\r\n",
        "    plt.title(title)\r\n",
        "    plt.colorbar()\r\n",
        "    tick_marks = np.arange(len(classes))\r\n",
        "    plt.xticks(tick_marks, classes, rotation=45)\r\n",
        "    plt.yticks(tick_marks, classes)\r\n",
        "\r\n",
        "    if normalize:\r\n",
        "        cm = cm.astype('float') / cm.sum(axis=1)[:, np.newaxis]\r\n",
        "        print(\"Normalized confusion matrix\")\r\n",
        "    else:\r\n",
        "        print('Confusion matrix, without normalization')\r\n",
        "\r\n",
        "    thresh = cm.max() / 2.\r\n",
        "    for i, j in itertools.product(range(cm.shape[0]), range(cm.shape[1])):\r\n",
        "        plt.text(j, i, cm[i, j],\r\n",
        "                 horizontalalignment=\"center\",\r\n",
        "                 color=\"white\" if cm[i, j] > thresh else \"black\")\r\n",
        "\r\n",
        "    plt.tight_layout()\r\n",
        "    plt.ylabel('True label')\r\n",
        "    plt.xlabel('Predicted label')"
      ],
      "execution_count": 27,
      "outputs": []
    },
    {
      "cell_type": "code",
      "metadata": {
        "id": "Kd8Kt2D3ZXmZ"
      },
      "source": [
        "from sklearn.naive_bayes import MultinomialNB\r\n",
        "classifier=MultinomialNB()"
      ],
      "execution_count": 28,
      "outputs": []
    },
    {
      "cell_type": "code",
      "metadata": {
        "id": "e4SfYrk0ZjEp"
      },
      "source": [
        "from sklearn import metrics\r\n",
        "import numpy as np\r\n",
        "import itertools"
      ],
      "execution_count": 29,
      "outputs": []
    },
    {
      "cell_type": "code",
      "metadata": {
        "colab": {
          "base_uri": "https://localhost:8080/",
          "height": 344
        },
        "id": "knZeFgPeZpTt",
        "outputId": "a03d90a1-fb53-4551-c797-575124f31ba1"
      },
      "source": [
        "classifier.fit(X_train, y_train)\r\n",
        "pred = classifier.predict(X_test)\r\n",
        "score = metrics.accuracy_score(y_test, pred)\r\n",
        "print(\"accuracy:   %0.3f\" % score)\r\n",
        "cm = metrics.confusion_matrix(y_test, pred)\r\n",
        "plot_confusion_matrix(cm, classes=['FAKE', 'REAL'])"
      ],
      "execution_count": 30,
      "outputs": [
        {
          "output_type": "stream",
          "text": [
            "accuracy:   0.785\n",
            "Confusion matrix, without normalization\n"
          ],
          "name": "stdout"
        },
        {
          "output_type": "display_data",
          "data": {
            "image/png": "[encoded data removed]",
            "text/plain": [
              "<Figure size 432x288 with 2 Axes>"
            ]
          },
          "metadata": {
            "tags": []
          }
        }
      ]
    },
    {
      "cell_type": "code",
      "metadata": {
        "colab": {
          "base_uri": "https://localhost:8080/"
        },
        "id": "szryOs_YZtTp",
        "outputId": "89985382-0e1a-4ac4-bbd5-a8fed2eca3d6"
      },
      "source": [
        "classifier.fit(X_train, y_train)\r\n",
        "pred = classifier.predict(X_test)\r\n",
        "score = metrics.accuracy_score(y_test, pred)\r\n",
        "score"
      ],
      "execution_count": 31,
      "outputs": [
        {
          "output_type": "execute_result",
          "data": {
            "text/plain": [
              "0.7853309481216458"
            ]
          },
          "metadata": {
            "tags": []
          },
          "execution_count": 31
        }
      ]
    },
    {
      "cell_type": "markdown",
      "metadata": {
        "id": "aEiKu2gHbXxl"
      },
      "source": [
        "Passive Aggressive Classifier Algorithm\r\n"
      ]
    },
    {
      "cell_type": "code",
      "metadata": {
        "id": "c2uXjSxDZuZB"
      },
      "source": [
        "from sklearn.linear_model import PassiveAggressiveClassifier\r\n",
        "linear_clf = PassiveAggressiveClassifier(n_iter_no_change=50)"
      ],
      "execution_count": 32,
      "outputs": []
    },
    {
      "cell_type": "code",
      "metadata": {
        "colab": {
          "base_uri": "https://localhost:8080/",
          "height": 344
        },
        "id": "JczXk25Gbetf",
        "outputId": "7e439902-5740-4b29-c28a-a74490df0ad6"
      },
      "source": [
        "linear_clf.fit(X_train, y_train)\r\n",
        "pred = linear_clf.predict(X_test)\r\n",
        "score = metrics.accuracy_score(y_test, pred)\r\n",
        "print(\"accuracy:   %0.3f\" % score)\r\n",
        "cm = metrics.confusion_matrix(y_test, pred)\r\n",
        "plot_confusion_matrix(cm, classes=['FAKE Data', 'REAL Data'])"
      ],
      "execution_count": 33,
      "outputs": [
        {
          "output_type": "stream",
          "text": [
            "accuracy:   0.698\n",
            "Confusion matrix, without normalization\n"
          ],
          "name": "stdout"
        },
        {
          "output_type": "display_data",
          "data": {
            "image/png": "[encoded data removed]",
            "text/plain": [
              "<Figure size 432x288 with 2 Axes>"
            ]
          },
          "metadata": {
            "tags": []
          }
        }
      ]
    },
    {
      "cell_type": "markdown",
      "metadata": {
        "id": "0WGyDX5GcBUu"
      },
      "source": [
        "Multinomial Classifier with Hyperparameter"
      ]
    },
    {
      "cell_type": "code",
      "metadata": {
        "id": "yYswVk4Pb2oK"
      },
      "source": [
        "classifier=MultinomialNB(alpha=0.1)"
      ],
      "execution_count": 34,
      "outputs": []
    },
    {
      "cell_type": "code",
      "metadata": {
        "colab": {
          "base_uri": "https://localhost:8080/"
        },
        "id": "dGFTlUe1cFZV",
        "outputId": "99df644c-21d9-4e6a-8f79-f94ae41241a1"
      },
      "source": [
        "previous_score=0\r\n",
        "for alpha in np.arange(0,1,0.1):\r\n",
        "    sub_classifier=MultinomialNB(alpha=alpha)\r\n",
        "    sub_classifier.fit(X_train,y_train)\r\n",
        "    y_pred=sub_classifier.predict(X_test)\r\n",
        "    score = metrics.accuracy_score(y_test, y_pred)\r\n",
        "    if score>previous_score:\r\n",
        "        classifier=sub_classifier\r\n",
        "    print(\"Alpha: {}, Score : {}\".format(alpha,score))"
      ],
      "execution_count": 35,
      "outputs": [
        {
          "output_type": "stream",
          "text": [
            "/usr/local/lib/python3.6/dist-packages/sklearn/naive_bayes.py:507: UserWarning: alpha too small will result in numeric errors, setting alpha = 1.0e-10\n",
            "  'setting alpha = %.1e' % _ALPHA_MIN)\n"
          ],
          "name": "stderr"
        },
        {
          "output_type": "stream",
          "text": [
            "Alpha: 0.0, Score : 0.7740011926058438\n",
            "Alpha: 0.1, Score : 0.7799642218246869\n",
            "Alpha: 0.2, Score : 0.7805605247465712\n",
            "Alpha: 0.30000000000000004, Score : 0.7823494335122242\n",
            "Alpha: 0.4, Score : 0.7829457364341085\n",
            "Alpha: 0.5, Score : 0.7835420393559929\n",
            "Alpha: 0.6000000000000001, Score : 0.7841383422778772\n",
            "Alpha: 0.7000000000000001, Score : 0.7829457364341085\n",
            "Alpha: 0.8, Score : 0.7847346451997614\n",
            "Alpha: 0.9, Score : 0.7841383422778772\n"
          ],
          "name": "stdout"
        }
      ]
    },
    {
      "cell_type": "code",
      "metadata": {
        "id": "h8cql0nWcPWw"
      },
      "source": [
        "feature_names = tfidf.get_feature_names()"
      ],
      "execution_count": 36,
      "outputs": []
    },
    {
      "cell_type": "code",
      "metadata": {
        "colab": {
          "base_uri": "https://localhost:8080/"
        },
        "id": "4pffd0swcSqk",
        "outputId": "b17b0549-93c4-4d71-bdc9-11a93f250382"
      },
      "source": [
        "classifier.coef_[0]"
      ],
      "execution_count": 37,
      "outputs": [
        {
          "output_type": "execute_result",
          "data": {
            "text/plain": [
              "array([-7.69758951, -7.90365653, -7.90365653, ..., -7.27075744,\n",
              "       -7.55019986, -7.14656743])"
            ]
          },
          "metadata": {
            "tags": []
          },
          "execution_count": 37
        }
      ]
    },
    {
      "cell_type": "code",
      "metadata": {
        "colab": {
          "base_uri": "https://localhost:8080/"
        },
        "id": "NoA9O6R_cWA4",
        "outputId": "fac912b1-6d9f-4bbf-eaa9-95cbef558e4d"
      },
      "source": [
        "\r\n",
        "sorted(zip(classifier.coef_[0], feature_names), reverse=True)[:20]"
      ],
      "execution_count": 38,
      "outputs": [
        {
          "output_type": "execute_result",
          "data": {
            "text/plain": [
              "[(-4.898678166451858, 'fire'),\n",
              " (-5.544793054531557, 'building'),\n",
              " (-5.580128941668724, 'via'),\n",
              " (-5.586480643566784, 'police'),\n",
              " (-5.727202643714817, 'amp'),\n",
              " (-5.746145964766488, 'storm'),\n",
              " (-5.752158965392278, 'news'),\n",
              " (-5.7529026013603275, 'train'),\n",
              " (-5.76640287460276, 'accident'),\n",
              " (-5.781576079317595, 'disaster'),\n",
              " (-5.781983975017748, 'california'),\n",
              " (-5.78803969374143, 'attack'),\n",
              " (-5.808358453514003, 'hiroshima'),\n",
              " (-5.824556127633999, 'burning'),\n",
              " (-5.825111039219532, 'killed'),\n",
              " (-5.837841807807257, 'like'),\n",
              " (-5.864675747644723, 'crash'),\n",
              " (-5.8860767035097865, 'home'),\n",
              " (-5.892184007852933, 'emergency'),\n",
              " (-5.901052221014563, 'bomb')]"
            ]
          },
          "metadata": {
            "tags": []
          },
          "execution_count": 38
        }
      ]
    },
    {
      "cell_type": "code",
      "metadata": {
        "colab": {
          "base_uri": "https://localhost:8080/"
        },
        "id": "e0t1kzeiccpK",
        "outputId": "9d4de3e3-02de-4abc-ef36-ab29b025a921"
      },
      "source": [
        "sorted(zip(classifier.coef_[0], feature_names))[:5000]"
      ],
      "execution_count": 39,
      "outputs": [
        {
          "output_type": "execute_result",
          "data": {
            "text/plain": [
              "[(-8.620311734718676, 'ancient'),\n",
              " (-8.620311734718676, 'awesome'),\n",
              " (-8.620311734718676, 'ball'),\n",
              " (-8.620311734718676, 'bear'),\n",
              " (-8.620311734718676, 'beat'),\n",
              " (-8.620311734718676, 'blew'),\n",
              " (-8.620311734718676, 'bloody'),\n",
              " (-8.620311734718676, 'cat'),\n",
              " (-8.620311734718676, 'catastrophe'),\n",
              " (-8.620311734718676, 'choice'),\n",
              " (-8.620311734718676, 'cover'),\n",
              " (-8.620311734718676, 'dance'),\n",
              " (-8.620311734718676, 'david'),\n",
              " (-8.620311734718676, 'disney'),\n",
              " (-8.620311734718676, 'dream'),\n",
              " (-8.620311734718676, 'fashion'),\n",
              " (-8.620311734718676, 'favorite'),\n",
              " (-8.620311734718676, 'gay'),\n",
              " (-8.620311734718676, 'gt gt gt'),\n",
              " (-8.620311734718676, 'hiring'),\n",
              " (-8.620311734718676, 'loved'),\n",
              " (-8.620311734718676, 'mayhem'),\n",
              " (-8.620311734718676, 'mode'),\n",
              " (-8.620311734718676, 'name'),\n",
              " (-8.620311734718676, 'nice'),\n",
              " (-8.620311734718676, 'nowplaying'),\n",
              " (-8.620311734718676, 'offensive'),\n",
              " (-8.620311734718676, 'offensive content'),\n",
              " (-8.620311734718676, 'panicking'),\n",
              " (-8.620311734718676, 'paul'),\n",
              " (-8.620311734718676, 'play'),\n",
              " (-8.620311734718676, 'quarantine offensive'),\n",
              " (-8.620311734718676, 'quarantine offensive content'),\n",
              " (-8.620311734718676, 'reddit quarantine offensive'),\n",
              " (-8.620311734718676, 'ruin'),\n",
              " (-8.620311734718676, 'seeing'),\n",
              " (-8.620311734718676, 'soul'),\n",
              " (-8.620311734718676, 'technology'),\n",
              " (-8.620311734718676, 'twister'),\n",
              " (-8.620311734718676, 'wedding'),\n",
              " (-8.620311734718676, 'welcome'),\n",
              " (-8.620311734718676, 'worth'),\n",
              " (-8.423655429614618, 'cross body'),\n",
              " (-8.417366295976723, 'cross body bag'),\n",
              " (-8.409316125378202, 'leather'),\n",
              " (-8.407395103129025, 'handbag'),\n",
              " (-8.40533575974679, 'tote'),\n",
              " (-8.400709087050904, 'faux'),\n",
              " (-8.400709087050904, 'faux leather'),\n",
              " (-8.400709087050904, 'lady shoulder'),\n",
              " (-8.400709087050904, 'lady shoulder tote'),\n",
              " (-8.400709087050904, 'new lady'),\n",
              " (-8.400709087050904, 'new lady shoulder'),\n",
              " (-8.400709087050904, 'purse'),\n",
              " (-8.400709087050904, 'shoulder tote'),\n",
              " (-8.400709087050904, 'shoulder tote handbag'),\n",
              " (-8.400709087050904, 'tote handbag'),\n",
              " (-8.398078967818947, 'hobo'),\n",
              " (-8.393013450948379, 'space'),\n",
              " (-8.378052848310912, 'fleet'),\n",
              " (-8.378052848310912, 'space battle'),\n",
              " (-8.375183158335753, 'black eye'),\n",
              " (-8.375183158335753, 'black eye space'),\n",
              " (-8.375183158335753, 'occurred star'),\n",
              " (-8.375183158335753, 'occurred star involving'),\n",
              " (-8.375183158335753, 'space battle occurred'),\n",
              " (-8.375183158335753, 'star involving'),\n",
              " (-8.375183158335753, 'star involving fleet'),\n",
              " (-8.374250394884902, 'feel like'),\n",
              " (-8.368842574312566, 'quiz'),\n",
              " (-8.367064158242606, 'led'),\n",
              " (-8.364930726084248, 'led work'),\n",
              " (-8.36265507006796, 'led work light'),\n",
              " (-8.36265507006796, 'work light'),\n",
              " (-8.362420134494428, 'take quiz'),\n",
              " (-8.360216452943131, 'cree led'),\n",
              " (-8.360216452943131, 'cree led work'),\n",
              " (-8.360216452943131, 'offroad'),\n",
              " (-8.357537066281854, 'obliteration'),\n",
              " (-8.35449980420882, 'image take'),\n",
              " (-8.35449980420882, 'image take quiz'),\n",
              " (-8.35449980420882, 'low self'),\n",
              " (-8.35449980420882, 'low self image'),\n",
              " (-8.35449980420882, 'self image'),\n",
              " (-8.35449980420882, 'self image take'),\n",
              " (-8.35163050618835, 'work light bar'),\n",
              " (-8.34645936660589, 'music'),\n",
              " (-8.33139776362045, 'traumatised'),\n",
              " (-8.331053632775866, 'mind'),\n",
              " (-8.326276382760211, 'dont'),\n",
              " (-8.321859266867213, 'tv'),\n",
              " (-8.315558068618316, 'cry'),\n",
              " (-8.314740118032216, 'hollywood'),\n",
              " (-8.307952417003747, 'hollywood movie'),\n",
              " (-8.307952417003747, 'hollywood movie trapped'),\n",
              " (-8.307952417003747, 'miner'),\n",
              " (-8.307952417003747, 'movie trapped'),\n",
              " (-8.307952417003747, 'movie trapped miner'),\n",
              " (-8.307952417003747, 'trapped miner'),\n",
              " (-8.303687603496307, 'ebay'),\n",
              " (-8.300695645473246, 'glass'),\n",
              " (-8.299018513812305, 'happy'),\n",
              " (-8.29746519659221, 'hat'),\n",
              " (-8.296756681195397, 'chance'),\n",
              " (-8.295302714449887, 'data'),\n",
              " (-8.288989348418843, 'full read ebay'),\n",
              " (-8.288989348418843, 'read ebay'),\n",
              " (-8.286225463360443, 'appears'),\n",
              " (-8.286225463360443, 'heard loud'),\n",
              " (-8.286225463360443, 'heard loud bang'),\n",
              " (-8.28378471250502, 'appears blast'),\n",
              " (-8.28378471250502, 'appears blast wind'),\n",
              " (-8.28378471250502, 'bang nearby'),\n",
              " (-8.28378471250502, 'bang nearby appears'),\n",
              " (-8.28378471250502, 'blast wind'),\n",
              " (-8.28378471250502, 'blast wind neighbour'),\n",
              " (-8.28378471250502, 'breaking news unconfirmed'),\n",
              " (-8.28378471250502, 'loud bang nearby'),\n",
              " (-8.28378471250502, 'nearby appears'),\n",
              " (-8.28378471250502, 'nearby appears blast'),\n",
              " (-8.28378471250502, 'neighbour'),\n",
              " (-8.28378471250502, 'neighbour as'),\n",
              " (-8.28378471250502, 'news unconfirmed'),\n",
              " (-8.28378471250502, 'news unconfirmed heard'),\n",
              " (-8.28378471250502, 'unconfirmed'),\n",
              " (-8.28378471250502, 'unconfirmed heard'),\n",
              " (-8.28378471250502, 'unconfirmed heard loud'),\n",
              " (-8.28378471250502, 'wind neighbour'),\n",
              " (-8.28378471250502, 'wind neighbour as'),\n",
              " (-8.283686174848947, 'content policy'),\n",
              " (-8.282523988371638, 'black hat'),\n",
              " (-8.282523988371638, 'black hat prebreak'),\n",
              " (-8.282523988371638, 'computer send'),\n",
              " (-8.282523988371638, 'computer send data'),\n",
              " (-8.282523988371638, 'data sound'),\n",
              " (-8.282523988371638, 'data sound wave'),\n",
              " (-8.282523988371638, 'funtenna'),\n",
              " (-8.282523988371638, 'funtenna hijacking'),\n",
              " (-8.282523988371638, 'funtenna hijacking computer'),\n",
              " (-8.282523988371638, 'hat prebreak'),\n",
              " (-8.282523988371638, 'hat prebreak best'),\n",
              " (-8.282523988371638, 'hijacking computer'),\n",
              " (-8.282523988371638, 'hijacking computer send'),\n",
              " (-8.282523988371638, 'hot funtenna'),\n",
              " (-8.282523988371638, 'hot funtenna hijacking'),\n",
              " (-8.282523988371638, 'send data'),\n",
              " (-8.282523988371638, 'send data sound'),\n",
              " (-8.282523988371638, 'sound wave'),\n",
              " (-8.282523988371638, 'sound wave black'),\n",
              " (-8.282523988371638, 'wave black'),\n",
              " (-8.282523988371638, 'wave black hat'),\n",
              " (-8.28122983821309, 'banned'),\n",
              " (-8.276278847998135, 'sitting'),\n",
              " (-8.276126820483103, 'sorry'),\n",
              " (-8.27587203266487, 'banned quarantined'),\n",
              " (-8.27587203266487, 'new content'),\n",
              " (-8.27587203266487, 'new content policy'),\n",
              " (-8.27587203266487, 'reddit new'),\n",
              " (-8.27587203266487, 'reddit new content'),\n",
              " (-8.275849497638916, 'blizzard'),\n",
              " (-8.272930911056068, 'content policy go'),\n",
              " (-8.272930911056068, 'effect many'),\n",
              " (-8.272930911056068, 'effect many horrible'),\n",
              " (-8.272930911056068, 'go effect'),\n",
              " (-8.272930911056068, 'go effect many'),\n",
              " (-8.272930911056068, 'horrible subreddits'),\n",
              " (-8.272930911056068, 'horrible subreddits banned'),\n",
              " (-8.272930911056068, 'many horrible'),\n",
              " (-8.272930911056068, 'many horrible subreddits'),\n",
              " (-8.272930911056068, 'policy go'),\n",
              " (-8.272930911056068, 'policy go effect'),\n",
              " (-8.272930911056068, 'subreddits'),\n",
              " (-8.272930911056068, 'subreddits banned'),\n",
              " (-8.272930911056068, 'subreddits banned quarantined'),\n",
              " (-8.272876152071634, 'tablet'),\n",
              " (-8.272095089374114, 'sun'),\n",
              " (-8.269770192726371, 'rule'),\n",
              " (-8.267941632299308, 'stuff'),\n",
              " (-8.26705227842995, 'blazing'),\n",
              " (-8.26523278988306, 'loss'),\n",
              " (-8.26504464995244, 'miss'),\n",
              " (-8.263001452093352, 'loving'),\n",
              " (-8.26160134617053, 'match'),\n",
              " (-8.260009122710951, 'song'),\n",
              " (-8.259773809659434, 'wow'),\n",
              " (-8.256733489029454, 'gt gt'),\n",
              " (-8.255471793910903, 'cake'),\n",
              " (-8.255086236491358, 'military'),\n",
              " (-8.253100276979033, 'seen'),\n",
              " (-8.252844934327095, 'already'),\n",
              " (-8.252248291545937, 'single'),\n",
              " (-8.251751233715277, 'class'),\n",
              " (-8.247383024423263, 'looking'),\n",
              " (-8.246480728321508, 'reddit quarantine'),\n",
              " (-8.243937013098321, 'interesting'),\n",
              " (-8.238744996822389, 'episode'),\n",
              " (-8.23313839203839, 'everything'),\n",
              " (-8.232859652218652, 'feeling'),\n",
              " (-8.231168237114098, 'job'),\n",
              " (-8.222990572405827, 'couple'),\n",
              " (-8.217190905749957, 'stage'),\n",
              " (-8.214955314355404, 'playing'),\n",
              " (-8.209544204615622, 'court'),\n",
              " (-8.207844842532866, 'desolation smaug'),\n",
              " (-8.207844842532866, 'smaug'),\n",
              " (-8.205283752332123, 'anymore'),\n",
              " (-8.20381762384658, 'wrecked'),\n",
              " (-8.20067191169029, 'art'),\n",
              " (-8.193351403888027, 'emotional'),\n",
              " (-8.184805770733044, 'harm'),\n",
              " (-8.18315529819917, 'sit'),\n",
              " (-8.180659441440508, 'economy'),\n",
              " (-8.178766497591631, 'cant'),\n",
              " (-8.167994276904883, 'king'),\n",
              " (-8.167303466840517, 'earth'),\n",
              " (-8.161925277422993, 'interview'),\n",
              " (-8.153663476078334, 'bag'),\n",
              " (-8.153200426369756, 'declaration northern marians'),\n",
              " (-8.153200426369756, 'marians'),\n",
              " (-8.153200426369756, 'northern marians'),\n",
              " (-8.152716936978543, 'blight'),\n",
              " (-8.144193332721013, 'album'),\n",
              " (-8.14415789340035, 'pretty'),\n",
              " (-8.1434690454365, 'comment'),\n",
              " (-8.138178823110433, 'wonder'),\n",
              " (-8.138088272870826, 'body bag'),\n",
              " (-8.137332060680963, 'gop'),\n",
              " (-8.135674035799118, 'bed'),\n",
              " (-8.130937648085698, 'driving'),\n",
              " (-8.130761709848025, 'put'),\n",
              " (-8.125228464979397, 'planned'),\n",
              " (-8.12036898487179, 'better'),\n",
              " (-8.119542020084058, 'added'),\n",
              " (-8.116529251917182, 'crushed'),\n",
              " (-8.11087381536919, 'seek'),\n",
              " (-8.110772391867746, 'playlist'),\n",
              " (-8.105856063684975, 'added video'),\n",
              " (-8.105856063684975, 'added video youtube'),\n",
              " (-8.105856063684975, 'video youtube playlist'),\n",
              " (-8.105856063684975, 'youtube playlist'),\n",
              " (-8.099551060812521, 'aftershock'),\n",
              " (-8.08885374460155, 'involving'),\n",
              " (-8.086045642512563, 'kid'),\n",
              " (-8.08371980349295, 'bioterror germ'),\n",
              " (-8.08371980349295, 'germ'),\n",
              " (-8.08371980349295, 'lab mishap'),\n",
              " (-8.08371980349295, 'mishap'),\n",
              " (-8.08133524856419, 'electrocute'),\n",
              " (-8.079265952435726, 'anthrax lab'),\n",
              " (-8.079265952435726, 'anthrax lab mishap'),\n",
              " (-8.079265952435726, 'longer transport bioterror'),\n",
              " (-8.079265952435726, 'transport bioterror'),\n",
              " (-8.079265952435726, 'wake anthrax'),\n",
              " (-8.079265952435726, 'wake anthrax lab'),\n",
              " (-8.074477606068653, 'transport bioterror germ'),\n",
              " (-8.062604776807762, 'fucking'),\n",
              " (-8.061385385855079, 'turn'),\n",
              " (-8.05890183660695, 'horse'),\n",
              " (-8.055104249820523, 'self'),\n",
              " (-8.054923258090882, 'falling'),\n",
              " (-8.054359527618995, 'sure'),\n",
              " (-8.047356044293501, 'biggest'),\n",
              " (-8.046744300454675, 'though'),\n",
              " (-8.045886154434884, 'alone'),\n",
              " (-8.04075231855103, 'declaration northern'),\n",
              " (-8.04075231855103, 'disaster declaration northern'),\n",
              " (-8.039085769251379, 'oh'),\n",
              " (-8.0374895138586, 'full read'),\n",
              " (-8.033795987573473, 'park'),\n",
              " (-8.03254986155659, 'men'),\n",
              " (-8.02913948514086, 'meltdown'),\n",
              " (-8.028080662327111, 'ice'),\n",
              " (-8.025971371046923, 'drink'),\n",
              " (-8.024028925439794, 'bar'),\n",
              " (-8.022915109217442, 'book'),\n",
              " (-8.022542339377594, 'gave'),\n",
              " (-8.016768087541708, 'nigga'),\n",
              " (-8.016741055394268, 'killer'),\n",
              " (-8.016605261390227, 'phone'),\n",
              " (-8.012170855016542, 'stock'),\n",
              " (-8.01174162674346, 'computer'),\n",
              " (-8.010552098942881, 'scared'),\n",
              " (-8.00977591305994, 'mom'),\n",
              " (-8.008811618970435, 'demolish'),\n",
              " (-8.00873053580825, 'em'),\n",
              " (-8.007795085381675, 'finally'),\n",
              " (-8.003659985711732, 'okay'),\n",
              " (-8.003071978693155, 'insurance'),\n",
              " (-8.002290894419927, 'ahead'),\n",
              " (-8.002218852934904, 'hard'),\n",
              " (-7.9996839308059435, 'sport'),\n",
              " (-7.999247863490478, 'door'),\n",
              " (-7.998994871865478, 'meek'),\n",
              " (-7.995806120570865, 'quarantine'),\n",
              " (-7.995560509668257, 'gem'),\n",
              " (-7.9953371248849745, 'trying'),\n",
              " (-7.995039474551807, 'desolate'),\n",
              " (-7.9948291152588284, 'stretcher'),\n",
              " (-7.992320618176334, 'emmerdale'),\n",
              " (-7.991708662012852, 'link'),\n",
              " (-7.9898755042453935, 'probably'),\n",
              " (-7.98922001691138, 'chief'),\n",
              " (-7.987345556139628, 'article'),\n",
              " (-7.98351546738885, 'china stock'),\n",
              " (-7.98351546738885, 'china stock market'),\n",
              " (-7.98351546738885, 'crash gem'),\n",
              " (-7.98351546738885, 'crash gem rubble'),\n",
              " (-7.98351546738885, 'gem rubble'),\n",
              " (-7.98351546738885, 'market crash'),\n",
              " (-7.98351546738885, 'market crash gem'),\n",
              " (-7.98351546738885, 'stock market'),\n",
              " (-7.98351546738885, 'stock market crash'),\n",
              " (-7.980357682846504, 'bring'),\n",
              " (-7.976375424705736, 'lady'),\n",
              " (-7.976287308097681, 'cree'),\n",
              " (-7.972732611729551, 'mine'),\n",
              " (-7.969314653124589, 'amazon'),\n",
              " (-7.967434555664684, 'press'),\n",
              " (-7.967179922967254, 'friday'),\n",
              " (-7.961083441340622, 'research'),\n",
              " (-7.9601730878112615, 'san'),\n",
              " (-7.959434249280184, 'account'),\n",
              " (-7.959197955529554, 'online'),\n",
              " (-7.95494958701719, 'tried'),\n",
              " (-7.9519824883959425, 'lost'),\n",
              " (-7.94918696970337, 'sense'),\n",
              " (-7.948065963296276, 'policy'),\n",
              " (-7.945372831634471, 'side'),\n",
              " (-7.944517660910202, 'le'),\n",
              " (-7.944277237454927, 'window'),\n",
              " (-7.941789823732812, 'video youtube'),\n",
              " (-7.939109748251949, 'wrong'),\n",
              " (-7.938589953787794, 'lord'),\n",
              " (-7.938496997557736, 'worse'),\n",
              " (-7.936216503871167, 'party'),\n",
              " (-7.935515017110701, 'entire'),\n",
              " (-7.934290272672879, 'release'),\n",
              " (-7.933918951391929, 'declaration'),\n",
              " (-7.933918951391929, 'devastated saipan obama'),\n",
              " (-7.933918951391929, 'disaster declaration'),\n",
              " (-7.933918951391929, 'obama sign'),\n",
              " (-7.933918951391929, 'obama sign disaster'),\n",
              " (-7.933918951391929, 'saipan obama'),\n",
              " (-7.933918951391929, 'saipan obama sign'),\n",
              " (-7.933918951391929, 'sign disaster'),\n",
              " (-7.933918951391929, 'sign disaster declaration'),\n",
              " (-7.932085487608656, 'future'),\n",
              " (-7.929411676431748, 'spot'),\n",
              " (-7.927520579021758, 'deep'),\n",
              " (-7.926581393331365, 'follow'),\n",
              " (-7.925027822390945, 'rather'),\n",
              " (-7.919754732863987, 'making'),\n",
              " (-7.917098449045404, 'emergency service'),\n",
              " (-7.914683802288909, 'department'),\n",
              " (-7.908345369398644, 'anyone'),\n",
              " (-7.90831500217099, 'mad'),\n",
              " (-7.905911368864387, 'soon'),\n",
              " (-7.9038287777062335, 'obliterate'),\n",
              " (-7.903828564155023, 'thinking'),\n",
              " (-7.903656534393259, 'aba woman'),\n",
              " (-7.903656534393259, 'aba woman delivers'),\n",
              " (-7.903656534393259, 'delivers'),\n",
              " (-7.903656534393259, 'woman delivers'),\n",
              " (-7.898952846152328, 'transport'),\n",
              " (-7.896845892243915, 'delivers baby'),\n",
              " (-7.8953394796193255, 'stand'),\n",
              " (-7.892284772967663, 'queen'),\n",
              " (-7.889398344711935, 'fedex longer transport'),\n",
              " (-7.889398344711935, 'longer transport'),\n",
              " (-7.889278068181339, 'happens'),\n",
              " (-7.884322446802565, 'deluge'),\n",
              " (-7.8813421224629305, 'claim'),\n",
              " (-7.8808177478234125, 'result'),\n",
              " (-7.8791110221510285, 'blocked'),\n",
              " (-7.875402142418937, 'trouble'),\n",
              " (-7.874535217609115, 'usatoday'),\n",
              " (-7.873097332888455, 'crush'),\n",
              " (-7.868723353858964, 'price'),\n",
              " (-7.865093868357341, 'beach'),\n",
              " (-7.862092732663889, 'hero'),\n",
              " (-7.858188915302271, 'answer'),\n",
              " (-7.852063279259176, 'ppl'),\n",
              " (-7.850293884397842, 'reddit'),\n",
              " (-7.848500500201122, 'sound'),\n",
              " (-7.84131512246402, 'hey'),\n",
              " (-7.8402679001389, 'yeah'),\n",
              " (-7.838940255364137, 'secret'),\n",
              " (-7.837955063705106, 'dad'),\n",
              " (-7.833290900646345, 'without'),\n",
              " (-7.833255051672255, 'shoulder'),\n",
              " (-7.83060370874892, 'salt'),\n",
              " (-7.826761070057807, 'series'),\n",
              " (-7.822433827871196, 'deluged'),\n",
              " (-7.8206734959352575, 'inundated'),\n",
              " (-7.8198014348441625, 'structure'),\n",
              " (-7.818208134654081, 'team'),\n",
              " (-7.81634805246084, 'avalanche'),\n",
              " (-7.811722251012645, 'fun'),\n",
              " (-7.81136366875646, 'international'),\n",
              " (-7.808530718088784, 'word'),\n",
              " (-7.806981844710302, 'blown'),\n",
              " (-7.8063329337791085, 'true'),\n",
              " (-7.805663319390525, 'screaming'),\n",
              " (-7.803366548524386, 'working'),\n",
              " (-7.803074801459495, 'declares disaster'),\n",
              " (-7.803074801459495, 'declares disaster typhoon'),\n",
              " (-7.803074801459495, 'devastated saipan'),\n",
              " (-7.803074801459495, 'disaster typhoon'),\n",
              " (-7.803074801459495, 'disaster typhoon devastated'),\n",
              " (-7.803074801459495, 'obama declares disaster'),\n",
              " (-7.803074801459495, 'saipan'),\n",
              " (-7.803074801459495, 'typhoon devastated'),\n",
              " (-7.803074801459495, 'typhoon devastated saipan'),\n",
              " (-7.802256063928136, 'reason'),\n",
              " (-7.800195099437442, 'later'),\n",
              " (-7.7971031211302915, 'trust'),\n",
              " (-7.796210858798472, 'user'),\n",
              " (-7.795000511997414, 'law'),\n",
              " (-7.794861993636039, 'someone'),\n",
              " (-7.786498516145019, 'hear'),\n",
              " (-7.78404755476027, 'drake'),\n",
              " (-7.778851608358545, 'lead'),\n",
              " (-7.777793269061503, 'far'),\n",
              " (-7.775555738651616, 'agree'),\n",
              " (-7.772103204232937, 'trump'),\n",
              " (-7.770040073079345, 'blue'),\n",
              " (-7.769258496566124, 'toddler'),\n",
              " (-7.764381948619449, 'security'),\n",
              " (-7.764150241096426, 'burned'),\n",
              " (-7.762103637475246, 'game'),\n",
              " (-7.760923245721004, 'friend'),\n",
              " (-7.760101197354512, 'loud'),\n",
              " (-7.759996601512133, 'lie'),\n",
              " (-7.759473528477427, 'tweet'),\n",
              " (-7.758442166074769, 'tho'),\n",
              " (-7.758004715498428, 'eyewitness'),\n",
              " (-7.757173288438047, 'quarantined'),\n",
              " (-7.755577927769182, 'fedex longer'),\n",
              " (-7.754929931326871, 'metal'),\n",
              " (-7.751075008908186, 'left'),\n",
              " (-7.75074120247943, 'happened'),\n",
              " (-7.748747482363195, 'russian'),\n",
              " (-7.747969851027397, 'bleeding'),\n",
              " (-7.745831926585936, 'scream'),\n",
              " (-7.744939508718823, 'bang'),\n",
              " (-7.742972234156119, 'france'),\n",
              " (-7.740769944756421, 'flattened'),\n",
              " (-7.7385638447693665, 'explode'),\n",
              " (-7.738312927978741, 'long'),\n",
              " (-7.737514389385305, 'drown'),\n",
              " (-7.737079043021262, 'believe'),\n",
              " (-7.736845222854145, 'event'),\n",
              " (-7.73677397407374, 'ever'),\n",
              " (-7.732437310287462, 'weekend'),\n",
              " (-7.73197386179629, 'lamp'),\n",
              " (-7.730575906732833, 'break'),\n",
              " (-7.730253383536777, 'star'),\n",
              " (-7.7278189037458525, 'thank'),\n",
              " (-7.727360890123618, 'try'),\n",
              " (-7.727195797861924, 'loud bang'),\n",
              " (-7.725747601177506, 'guy'),\n",
              " (-7.725522545412241, 'expect'),\n",
              " (-7.724395750593357, 'gun'),\n",
              " (-7.724375120381439, 'become'),\n",
              " (-7.723793314144162, 'heard'),\n",
              " (-7.721754127085199, 'blaze'),\n",
              " (-7.719585654814391, 'occurred'),\n",
              " (-7.716428279545459, 'nuclear reactor'),\n",
              " (-7.712528657421693, 'strong'),\n",
              " (-7.711723878638249, 'used'),\n",
              " (-7.710308635456055, 'phoenix'),\n",
              " (-7.709243800234977, 'always'),\n",
              " (-7.708184141638553, 'money'),\n",
              " (-7.7060770675141335, 'maybe'),\n",
              " (-7.703173387044521, 'glad'),\n",
              " (-7.702789061954003, 'panic'),\n",
              " (-7.701980683674304, 'taking'),\n",
              " (-7.700608988735553, 'feel'),\n",
              " (-7.700498678141303, 'problem'),\n",
              " (-7.697589513545588, 'aba'),\n",
              " (-7.697131683489675, 'free'),\n",
              " (-7.696015763456692, 'meet'),\n",
              " (-7.693901603098059, 'annihilated'),\n",
              " (-7.692898553252814, 'body bagging'),\n",
              " (-7.690941552450896, 'white'),\n",
              " (-7.688320456532337, 'thanks'),\n",
              " (-7.687741251716144, 'declares'),\n",
              " (-7.687368460208279, 'foot'),\n",
              " (-7.686747064209303, 'fall cliff'),\n",
              " (-7.685079072228498, 'ten'),\n",
              " (-7.684717325617464, 'destroyed'),\n",
              " (-7.684227095941217, 'so'),\n",
              " (-7.682268777835405, 'obama declares'),\n",
              " (-7.6821913101022705, 'ny'),\n",
              " (-7.682130935269143, 'hazard'),\n",
              " (-7.680174495288377, 'last night'),\n",
              " (-7.67994575915808, 'hijacking'),\n",
              " (-7.67966408933335, 'liked'),\n",
              " (-7.678261172271801, 'patience'),\n",
              " (-7.677914954185413, 'islam'),\n",
              " (-7.676736415643631, 'fire truck'),\n",
              " (-7.676200638778849, 'youtube video'),\n",
              " (-7.675787686535638, 'small'),\n",
              " (-7.67389209973135, 'content'),\n",
              " (-7.672623830425437, 'liked youtube'),\n",
              " (-7.672623830425437, 'liked youtube video'),\n",
              " (-7.669880958389854, 'told'),\n",
              " (-7.66732072158024, 'instead'),\n",
              " (-7.666436471268274, 'wanna'),\n",
              " (-7.666335134752702, 'use'),\n",
              " (-7.665502368738137, 'risk'),\n",
              " (-7.665487150858473, 'god'),\n",
              " (-7.665413171659267, 'fast'),\n",
              " (-7.662531389692266, 'room'),\n",
              " (-7.6620875051562205, 'nothing'),\n",
              " (-7.661450809058205, 'via youtube'),\n",
              " (-7.659713187997425, 'fear'),\n",
              " (-7.657916820335412, 'hellfire'),\n",
              " (-7.656069022120582, 'control'),\n",
              " (-7.654529712264295, 'united'),\n",
              " (-7.653158500805046, 'human'),\n",
              " (-7.652628299070668, 'jonathan'),\n",
              " (-7.652628299070668, 'patience jonathan'),\n",
              " (-7.651857839570818, 'based'),\n",
              " (-7.65000536554046, 'drowning'),\n",
              " (-7.648145796694288, 'coach'),\n",
              " (-7.647749766969207, 'started'),\n",
              " (-7.64765898778425, 'open'),\n",
              " (-7.646835533577359, 'apollo'),\n",
              " (-7.646005899710178, 'prebreak'),\n",
              " (-7.646005899710178, 'prebreak best'),\n",
              " (-7.645003130004252, 'hijack apc'),\n",
              " (-7.644281164449, 'local'),\n",
              " (-7.642422180034069, 'cool'),\n",
              " (-7.640565376897034, 'apollo brown'),\n",
              " (-7.6370756228780685, 'lol'),\n",
              " (-7.6346917833413706, 'owner'),\n",
              " (-7.634377602680353, 'start'),\n",
              " (-7.633853432120467, 'part'),\n",
              " (-7.63280004716619, 'animal'),\n",
              " (-7.632111919824445, 'die'),\n",
              " (-7.631024464578169, 'collide'),\n",
              " (-7.630536279065816, 'demolished'),\n",
              " (-7.62997861369924, 'longer'),\n",
              " (-7.626437300374781, 'nw'),\n",
              " (-7.6255011885416835, 'person'),\n",
              " (-7.625391841023569, 'using'),\n",
              " (-7.623089358976044, 'idea'),\n",
              " (-7.61996973792089, 'safety'),\n",
              " (-7.619525752711137, 'pray'),\n",
              " (-7.61637511218747, 'london'),\n",
              " (-7.615989003632412, 'gold'),\n",
              " (-7.615692697848737, 'breaking news'),\n",
              " (-7.613563470337516, 'army trench released'),\n",
              " (-7.613563470337516, 'trench released'),\n",
              " (-7.605644975997909, 'reactor'),\n",
              " (-7.604724876627988, 'win'),\n",
              " (-7.604034672741036, 'cut'),\n",
              " (-7.601765361467728, 'moment'),\n",
              " (-7.598268170889574, 'evening'),\n",
              " (-7.5939159915754475, 'sunday'),\n",
              " (-7.5934405478489655, 'nearby'),\n",
              " (-7.591720303706758, 'anything'),\n",
              " (-7.591522950483796, 'middle'),\n",
              " (-7.588120255365575, 'new york'),\n",
              " (-7.587297111302449, 'disea'),\n",
              " (-7.587297111302449, 'legionnaire disea'),\n",
              " (-7.587297111302449, 'outbreak legionnaire disea'),\n",
              " (-7.586348398374464, 'actually'),\n",
              " (-7.584441569149349, 'dy'),\n",
              " (-7.5828594400758185, 'company'),\n",
              " (-7.582386569497602, 'wait'),\n",
              " (-7.577917804111433, 'veteran'),\n",
              " (-7.577416263273895, 'place'),\n",
              " (-7.574252261293571, 'pain'),\n",
              " (-7.571805031387359, 'obliterated'),\n",
              " (-7.571060103006782, 'happening'),\n",
              " (-7.56669443108712, 'bad'),\n",
              " (-7.5659294821383405, 'big'),\n",
              " (-7.560348987544167, 'chicago'),\n",
              " (-7.558216105741098, 'richmond'),\n",
              " (-7.557543565138546, 'read'),\n",
              " (-7.553974795236006, 'ready'),\n",
              " (-7.5529646531078996, 'test'),\n",
              " (-7.551092200020206, 'listen'),\n",
              " (-7.551079321093723, 'hell'),\n",
              " (-7.550199862354791, 'yyc'),\n",
              " (-7.549103389415983, 'deal'),\n",
              " (-7.548409173821486, 'season'),\n",
              " (-7.546756984421304, 'dog'),\n",
              " (-7.54581292751431, 'pandemonium'),\n",
              " (-7.545606280644971, 'apocalypse'),\n",
              " (-7.542502673037434, 'found reunion'),\n",
              " (-7.542502673037434, 'found reunion island'),\n",
              " (-7.542360738495521, 'bagging'),\n",
              " (-7.541141821862418, 'low'),\n",
              " (-7.541007362548008, 'brown'),\n",
              " (-7.539936324363081, 'wake'),\n",
              " (-7.539466789066509, 'front'),\n",
              " (-7.539288080764018, 'rubble'),\n",
              " (-7.539108031302085, 'week'),\n",
              " (-7.5352452898525275, 'curfew'),\n",
              " (-7.53486510093356, 'dan'),\n",
              " (-7.534662084932126, 'sea'),\n",
              " (-7.5343104157041765, 'year ago'),\n",
              " (-7.534093043900593, 'might'),\n",
              " (-7.532622736302523, 'crazy'),\n",
              " (-7.532458684474588, 'anthrax'),\n",
              " (-7.527078554065341, 'texas'),\n",
              " (-7.5267862958011165, 'nearly'),\n",
              " (-7.52605573722979, 'begin'),\n",
              " (-7.524621004566134, 'potus'),\n",
              " (-7.521802056665378, 'police officer wounded'),\n",
              " (-7.521288656295966, 'spring'),\n",
              " (-7.521067414786582, 'ship'),\n",
              " (-7.517513139880617, 'islamic'),\n",
              " (-7.517427713153633, 'fatal outbreak legionnaire'),\n",
              " (-7.516982946198686, 'face'),\n",
              " (-7.516727327305703, 'desolation'),\n",
              " (-7.514815815222862, 'mean'),\n",
              " (-7.513120391151249, 'ash'),\n",
              " (-7.5126876053260485, 'as'),\n",
              " (-7.5122801497607234, 'dude'),\n",
              " (-7.510094822022657, 'internally displaced'),\n",
              " (-7.509379891737549, 'lake'),\n",
              " (-7.50753580973215, 'else'),\n",
              " (-7.5054352615416375, 'upheaval'),\n",
              " (-7.504986411222283, 'radio'),\n",
              " (-7.502934590452338, 'pamela'),\n",
              " (-7.502934590452338, 'temple'),\n",
              " (-7.502328514781318, 'land stadium'),\n",
              " (-7.502328514781318, 'land stadium rescue'),\n",
              " (-7.502328514781318, 'modified'),\n",
              " (-7.502328514781318, 'modified land'),\n",
              " (-7.502328514781318, 'modified land stadium'),\n",
              " (-7.502328514781318, 'rescue hostage'),\n",
              " (-7.502328514781318, 'rescue hostage iran'),\n",
              " (-7.502328514781318, 'specially'),\n",
              " (-7.502328514781318, 'specially modified'),\n",
              " (-7.502328514781318, 'specially modified land'),\n",
              " (-7.502328514781318, 'stadium'),\n",
              " (-7.502328514781318, 'stadium rescue'),\n",
              " (-7.502328514781318, 'stadium rescue hostage'),\n",
              " (-7.499666388876875, 'large'),\n",
              " (-7.495727804276185, 'attacked muslim'),\n",
              " (-7.495727804276185, 'attacked muslim temple'),\n",
              " (-7.495727804276185, 'christian attacked'),\n",
              " (-7.495727804276185, 'christian attacked muslim'),\n",
              " (-7.495727804276185, 'flag via'),\n",
              " (-7.495727804276185, 'flag via pamela'),\n",
              " (-7.495727804276185, 'geller'),\n",
              " (-7.495727804276185, 'israeli flag'),\n",
              " (-7.495727804276185, 'israeli flag via'),\n",
              " (-7.495727804276185, 'mount waving'),\n",
              " (-7.495727804276185, 'mount waving israeli'),\n",
              " (-7.495727804276185, 'muslim temple'),\n",
              " (-7.495727804276185, 'muslim temple mount'),\n",
              " (-7.495727804276185, 'pamela geller'),\n",
              " (-7.495727804276185, 'temple mount'),\n",
              " (-7.495727804276185, 'temple mount waving'),\n",
              " (-7.495727804276185, 'via pamela'),\n",
              " (-7.495727804276185, 'via pamela geller'),\n",
              " (-7.495727804276185, 'waving'),\n",
              " (-7.495727804276185, 'waving israeli'),\n",
              " (-7.495727804276185, 'waving israeli flag'),\n",
              " (-7.4927829681693225, 'lt'),\n",
              " (-7.4901225788632875, 'different'),\n",
              " (-7.487897901672446, 'tsunami'),\n",
              " (-7.487413433367405, 'share'),\n",
              " (-7.479623424043003, 'lot'),\n",
              " (-7.477885956892317, 'drowned'),\n",
              " (-7.476702961735736, 'police officer'),\n",
              " (-7.473415124244381, 'cost'),\n",
              " (-7.471060961941465, 'high'),\n",
              " (-7.4706316719001205, 'army trench'),\n",
              " (-7.4706316719001205, 'bomb turkey'),\n",
              " (-7.4706316719001205, 'bomb turkey army'),\n",
              " (-7.4706316719001205, 'detonated bomb turkey'),\n",
              " (-7.4706316719001205, 'trench'),\n",
              " (-7.4706316719001205, 'turkey army'),\n",
              " (-7.4706316719001205, 'turkey army trench'),\n",
              " (-7.4702930228600275, 'number'),\n",
              " (-7.470177629175188, 'response'),\n",
              " (-7.467656050863855, 'month'),\n",
              " (-7.467232503968614, 'yet'),\n",
              " (-7.465922054068089, 'four'),\n",
              " (-7.465727661806078, 'tragedy'),\n",
              " (-7.461570236465377, 'first responder'),\n",
              " (-7.461148761493829, 'york'),\n",
              " (-7.460928101352011, 'girl'),\n",
              " (-7.460719194309208, 'ur'),\n",
              " (-7.460256069828711, 'freak'),\n",
              " (-7.459066875629542, 'wednesday'),\n",
              " (-7.45887887253335, 'driver'),\n",
              " (-7.4579119896016115, 'piece'),\n",
              " (-7.457635979240313, 'tent'),\n",
              " (-7.452507872403034, 'stay'),\n",
              " (-7.450834176888787, 'running'),\n",
              " (-7.450240482068422, 'screamed'),\n",
              " (-7.449035752312961, 'demolition'),\n",
              " (-7.448401797373032, 'hand'),\n",
              " (-7.4483348745431455, 'film'),\n",
              " (-7.447933193027578, 'board'),\n",
              " (-7.4462491886028985, 'la'),\n",
              " (-7.444045154457127, 'abc'),\n",
              " (-7.443768133788306, 'affected fatal'),\n",
              " (-7.443768133788306, 'affected fatal outbreak'),\n",
              " (-7.443768133788306, 'family affected'),\n",
              " (-7.443768133788306, 'family affected fatal'),\n",
              " (-7.443768133788306, 'fatal outbreak'),\n",
              " (-7.441491298400144, 'angry'),\n",
              " (-7.439953236511521, 'talk'),\n",
              " (-7.438993326549644, 'picking'),\n",
              " (-7.438356080343037, 'legionnaire family'),\n",
              " (-7.438356080343037, 'legionnaire family affected'),\n",
              " (-7.438356080343037, 'sue legionnaire family'),\n",
              " (-7.438296094300989, 'give'),\n",
              " (-7.43683296650239, 'gonna'),\n",
              " (-7.435397028168487, 'public'),\n",
              " (-7.433799237025967, 'question'),\n",
              " (-7.4334691744612345, 'hate'),\n",
              " (-7.431948578523327, 'two people'),\n",
              " (-7.429244490269009, 'fan'),\n",
              " (-7.422513291226883, 'body water'),\n",
              " (-7.422513291226883, 'body water rescuer'),\n",
              " (-7.422513291226883, 'picking body'),\n",
              " (-7.422513291226883, 'picking body water'),\n",
              " (-7.422513291226883, 'video picking'),\n",
              " (-7.422513291226883, 'video picking body'),\n",
              " (-7.422513291226883, 'water rescuer'),\n",
              " (-7.422513291226883, 'water rescuer searching'),\n",
              " (-7.42085900242796, 'arsonist'),\n",
              " (-7.420849415397774, 'send'),\n",
              " (-7.420521775022548, 'provoke'),\n",
              " (-7.420521775022548, 'provoke outrage'),\n",
              " (-7.420304691969502, 'sad'),\n",
              " (-7.4178873567027805, 'murderer'),\n",
              " (-7.417312790186744, 'care'),\n",
              " (-7.41728680624019, 'apc'),\n",
              " (-7.41728680624019, 'bayelsa'),\n",
              " (-7.41445196300111, 'watching'),\n",
              " (-7.4129125093258095, 'bestnaijamade bestnaijamade'),\n",
              " (-7.412645432990471, 'fuck'),\n",
              " (-7.40900852808904, 'battle'),\n",
              " (-7.408355353207565, 'mass murderer'),\n",
              " (-7.406329108674537, 'drive'),\n",
              " (-7.405925251586143, 'threat'),\n",
              " (-7.404234613590536, 'came'),\n",
              " (-7.398243989049034, 'beautiful'),\n",
              " (-7.398188982776989, 'bigger projected'),\n",
              " (-7.398188982776989, 'costlier'),\n",
              " (-7.398188982776989, 'costlier bigger'),\n",
              " (-7.398188982776989, 'costlier bigger projected'),\n",
              " (-7.398188982776989, 'may costlier'),\n",
              " (-7.398188982776989, 'may costlier bigger'),\n",
              " (-7.398188982776989, 'oil spill may'),\n",
              " (-7.398188982776989, 'refugio'),\n",
              " (-7.398188982776989, 'refugio oil'),\n",
              " (-7.398188982776989, 'refugio oil spill'),\n",
              " (-7.398188982776989, 'spill may'),\n",
              " (-7.398188982776989, 'spill may costlier'),\n",
              " (-7.395341811785528, 'wreck'),\n",
              " (-7.394885710428844, 'hostage iran'),\n",
              " (-7.393341541352237, 'boy charged manslaughter'),\n",
              " (-7.393341541352237, 'charged manslaughter'),\n",
              " (-7.393341541352237, 'manslaughter'),\n",
              " (-7.3928496331826, 'great'),\n",
              " (-7.392680412806021, 'war zone'),\n",
              " (-7.391620333610628, 'trapped'),\n",
              " (-7.390873050568219, 'uk'),\n",
              " (-7.389626607791516, 'cdt'),\n",
              " (-7.389626607791516, 'pm cdt'),\n",
              " (-7.388372414189181, 'officer wounded'),\n",
              " (-7.388372414189181, 'officer wounded suspect'),\n",
              " (-7.388372414189181, 'wounded suspect'),\n",
              " (-7.388370115709376, 'windstorm'),\n",
              " (-7.387369794499, 'history'),\n",
              " (-7.386992326730995, 'tomorrow'),\n",
              " (-7.386881798967726, 'usa'),\n",
              " (-7.382977522522202, 'russia'),\n",
              " (-7.38230734232538, 'close'),\n",
              " (-7.382187315604171, 'seismic'),\n",
              " (-7.382153620896765, 'every'),\n",
              " (-7.380142602063124, 'isi'),\n",
              " (-7.379510013358207, 'annihilation'),\n",
              " (-7.378122893008185, 'metro'),\n",
              " (-7.37791807654882, 'sinking'),\n",
              " (-7.377039994077352, 'site'),\n",
              " (-7.374505538468794, 'whirlwind'),\n",
              " (-7.374208280480438, 'centre'),\n",
              " (-7.368970853208728, 'flight mh'),\n",
              " (-7.36804409203535, 'bc'),\n",
              " (-7.367709233984038, 'remember'),\n",
              " (-7.364894405794494, 'full'),\n",
              " (-7.362987105229017, 'damn'),\n",
              " (-7.359355017087943, 'thought'),\n",
              " (-7.358760964346056, 'blast'),\n",
              " (-7.355034218068357, 'august pm'),\n",
              " (-7.352659930837907, 'cliff'),\n",
              " (-7.348970737004948, 'emergency plan'),\n",
              " (-7.347696899772257, 'check'),\n",
              " (-7.347137213017877, 'washington'),\n",
              " (-7.346522226694102, 'repair'),\n",
              " (-7.34567727712477, 'across'),\n",
              " (-7.345626279654754, 'saving'),\n",
              " (-7.34527917286592, 'also'),\n",
              " (-7.343949595722596, 'map'),\n",
              " (-7.342894912963241, 'info'),\n",
              " (-7.340739473515165, 'debris found'),\n",
              " (-7.340513225345038, 'return'),\n",
              " (-7.338087869780293, 'image'),\n",
              " (-7.33768271031237, 'mile'),\n",
              " (-7.336467915906297, 'baby'),\n",
              " (-7.336136783599599, 'snow'),\n",
              " (-7.334956092248014, 'sue'),\n",
              " (-7.333737907969187, 'reported'),\n",
              " (-7.333400172814529, 'bit'),\n",
              " (-7.3312305154756325, 'sunk'),\n",
              " (-7.329539949872523, 'lava'),\n",
              " (-7.329531083050375, 'family sue'),\n",
              " (-7.329531083050375, 'family sue legionnaire'),\n",
              " (-7.329531083050375, 'sue legionnaire'),\n",
              " (-7.329251747999357, 'dr'),\n",
              " (-7.3292455637583585, 'huge'),\n",
              " (-7.327757719192088, 'twitter'),\n",
              " (-7.325776818554175, 'young'),\n",
              " (-7.325326724550147, 'vehicle'),\n",
              " (-7.325138926002873, 'head'),\n",
              " (-7.324984647010817, 'destruction'),\n",
              " (-7.324713278364481, 'rescuer searching'),\n",
              " (-7.324713278364481, 'rescuer searching hundred'),\n",
              " (-7.324713278364481, 'searching hundred'),\n",
              " (-7.324713278364481, 'searching hundred migrant'),\n",
              " (-7.324298125912776, 'violent storm'),\n",
              " (-7.324089454020461, 'let'),\n",
              " (-7.321616697427856, 'eye'),\n",
              " (-7.321569322659134, 'hijack'),\n",
              " (-7.321434057814422, 'th anniversary'),\n",
              " (-7.32136476654694, 'national forest'),\n",
              " (-7.318617994058293, 'top'),\n",
              " (-7.317091378987873, 'estimate'),\n",
              " (-7.31707166711058, 'camp'),\n",
              " (-7.315983816874773, 'coast'),\n",
              " (-7.313174413250759, 'black'),\n",
              " (-7.312966359786735, 'sky'),\n",
              " (-7.3122488184054975, 'armageddon'),\n",
              " (-7.309591266234438, 'move'),\n",
              " (-7.309479123163236, 'collapsed'),\n",
              " (-7.307698568727266, 'bioterror'),\n",
              " (-7.306715303792297, 'cancer'),\n",
              " (-7.302838792367849, 'palestinian'),\n",
              " (-7.302439933559171, 'really'),\n",
              " (-7.300010098097108, 'non'),\n",
              " (-7.2989890879321635, 'outbreak legionnaire'),\n",
              " (-7.298682437507582, 'bigger'),\n",
              " (-7.297491837516408, 'sign'),\n",
              " (-7.294349959765745, 'ave'),\n",
              " (-7.290504815083572, 'gbbo'),\n",
              " (-7.290246539749136, 'daily'),\n",
              " (-7.288609591780134, 'rock'),\n",
              " (-7.286242815789494, 'internally'),\n",
              " (-7.284947147002817, 'yes'),\n",
              " (-7.284741288925625, 'school bus'),\n",
              " (-7.282458802193897, 'fire alarm'),\n",
              " (-7.277391020770711, 'literally'),\n",
              " (-7.276406244513359, 'whole'),\n",
              " (-7.276306742640157, 'muslim'),\n",
              " (-7.275531749569817, 'boy charged'),\n",
              " (-7.274579332826109, 'projected'),\n",
              " (-7.274478973381648, 'pakistani'),\n",
              " (-7.274243128611976, 'siren'),\n",
              " (-7.273403549336279, 'work'),\n",
              " (-7.272747448881314, 'track'),\n",
              " (-7.271192394539973, 'real'),\n",
              " (-7.270757442218867, 'old pkk'),\n",
              " (-7.270757442218867, 'old pkk suicide'),\n",
              " (-7.270757442218867, 'yr old pkk'),\n",
              " (-7.270303513173638, 'danger'),\n",
              " (-7.270075665525932, 'seattle'),\n",
              " (-7.268448659305363, 'level'),\n",
              " (-7.267552380279355, 'mount'),\n",
              " (-7.265595425323154, 'heart'),\n",
              " (-7.262666753582778, 'never'),\n",
              " (-7.260018845150425, 'indian'),\n",
              " (-7.259952111433147, 'mp'),\n",
              " (-7.259657306741342, 'ca'),\n",
              " (-7.255522990634539, 'tell'),\n",
              " (-7.2542495455676015, 'arrested'),\n",
              " (-7.245243839359485, 'change'),\n",
              " (-7.243134805448499, 'least'),\n",
              " (-7.242760359280563, 'lane'),\n",
              " (-7.2408563548434, 'living'),\n",
              " (-7.240221959624657, 'thousand'),\n",
              " (-7.239906139946753, 'riot'),\n",
              " (-7.239021025261264, 'second'),\n",
              " (-7.237991276683235, 'almost'),\n",
              " (-7.236887506141077, 'climate'),\n",
              " (-7.236057378901595, 'good'),\n",
              " (-7.2347941435853285, 'early'),\n",
              " (-7.234529511513953, 'went'),\n",
              " (-7.233701040617644, 'detonate'),\n",
              " (-7.23161626224872, 'love'),\n",
              " (-7.230538882911623, 'expert'),\n",
              " (-7.227483024592289, 'show'),\n",
              " (-7.227438190459568, 'worst'),\n",
              " (-7.226981566435618, 'year old'),\n",
              " (-7.226714690325918, 'christian'),\n",
              " (-7.225662021236531, 'best'),\n",
              " (-7.225637489771639, 'mark'),\n",
              " (-7.224972412890432, 'turkey'),\n",
              " (-7.22153960240488, 'british'),\n",
              " (-7.220298606623998, 'cross'),\n",
              " (-7.220176125344099, 'bomber detonated'),\n",
              " (-7.220176125344099, 'bomber detonated bomb'),\n",
              " (-7.220176125344099, 'detonated'),\n",
              " (-7.220176125344099, 'detonated bomb'),\n",
              " (-7.220176125344099, 'pkk suicide'),\n",
              " (-7.220176125344099, 'pkk suicide bomber'),\n",
              " (-7.220176125344099, 'suicide bomber detonated'),\n",
              " (-7.220010480898003, 'taken'),\n",
              " (-7.219645836005158, 'lab'),\n",
              " (-7.219276724316054, 'destroy'),\n",
              " (-7.215477796337849, 'western'),\n",
              " (-7.215406226662732, 'market'),\n",
              " (-7.214965773453854, 'much'),\n",
              " (-7.213588766559413, 'thunder'),\n",
              " (-7.2123923553067835, 'caught'),\n",
              " (-7.209655393183741, 'rise'),\n",
              " (-7.208683453371137, 'firefighter'),\n",
              " (-7.208441066521258, 'nd'),\n",
              " (-7.204901938204884, 'exploded'),\n",
              " (-7.203321847153701, 'reunion island'),\n",
              " (-7.202424874217833, 'heat wave'),\n",
              " (-7.201600914098057, 'act'),\n",
              " (-7.199171225859631, 'saved'),\n",
              " (-7.197796418027655, 'devastated'),\n",
              " (-7.196483285827579, 'got'),\n",
              " (-7.195964576964925, 'done'),\n",
              " (-7.195604798944922, 'northern california'),\n",
              " (-7.193895654351511, 'helping'),\n",
              " (-7.19379646067912, 'think'),\n",
              " (-7.189495503156474, 'shift'),\n",
              " (-7.189170956756594, 'sick'),\n",
              " (-7.188672993265347, 'fedex'),\n",
              " (-7.187589001469062, 'health'),\n",
              " (-7.185090620450197, 'wall'),\n",
              " (-7.183815879154296, 'turkish'),\n",
              " (-7.182337726741028, 'property'),\n",
              " (-7.182019395495694, 'australia'),\n",
              " (-7.179821725892141, 'im'),\n",
              " (-7.178451838016198, 'everyone'),\n",
              " (-7.176976375313498, 'night'),\n",
              " (-7.174001887304314, 'want'),\n",
              " (-7.17230538577624, 'totally'),\n",
              " (-7.172209831405652, 'food'),\n",
              " (-7.172197472590902, 'flag'),\n",
              " (-7.171915717087627, 'hot'),\n",
              " (-7.171353454089815, 'leave'),\n",
              " (-7.169303658172509, 'made'),\n",
              " (-7.165246245088494, 'member'),\n",
              " (-7.163620884105232, 'save'),\n",
              " (-7.163225931313482, 'mountain'),\n",
              " (-7.160427781396743, 'giant'),\n",
              " (-7.15960663694312, 'getting'),\n",
              " (-7.159158219087052, 'police post'),\n",
              " (-7.157568618209815, 'engulfed'),\n",
              " (-7.157024807284836, 'terror'),\n",
              " (-7.156879560930746, 'capture'),\n",
              " (-7.155830850291776, 'gas'),\n",
              " (-7.1557723978198, 'released'),\n",
              " (-7.15473268510992, 'global'),\n",
              " (-7.1517753671674695, 'udhampur'),\n",
              " (-7.151671876019623, 'strike'),\n",
              " (-7.150063426802974, 'support'),\n",
              " (-7.149964817753666, 'disease'),\n",
              " (-7.149724720976605, 'thursday'),\n",
              " (-7.147086506945851, 'gt'),\n",
              " (-7.146637538740524, 'away'),\n",
              " (-7.1465674258208445, 'zone'),\n",
              " (-7.144366120019221, 'landing'),\n",
              " (-7.143517668204864, 'flight'),\n",
              " (-7.143477919444707, 'yr old'),\n",
              " (-7.141575957067172, 'following'),\n",
              " (-7.139850097144033, 'ago'),\n",
              " (-7.139177673377673, 'town'),\n",
              " (-7.136865975349414, 'others'),\n",
              " (-7.13672686501973, 'youtube'),\n",
              " (-7.136637415387716, 'half'),\n",
              " (-7.134647187911543, 'responder'),\n",
              " (-7.134327313631231, 'past'),\n",
              " (-7.131459201992685, 'green'),\n",
              " (-7.131301139319705, 'nuclear weapon'),\n",
              " (-7.1303610696096085, 'closed'),\n",
              " (-7.130017435218036, 'called'),\n",
              " (-7.128940115474023, 'train derailed'),\n",
              " (-7.127901318205246, 'horror'),\n",
              " (-7.12691957504429, 'outrage'),\n",
              " (-7.125500821657714, 'affected'),\n",
              " (-7.124684137606476, 'co'),\n",
              " (-7.123118425653511, 'thing'),\n",
              " ...]"
            ]
          },
          "metadata": {
            "tags": []
          },
          "execution_count": 39
        }
      ]
    }
  ]
}