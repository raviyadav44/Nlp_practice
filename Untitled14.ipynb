{
  "nbformat": 4,
  "nbformat_minor": 0,
  "metadata": {
    "colab": {
      "name": "Untitled14.ipynb",
      "provenance": [],
      "authorship_tag": "ABX9TyNOabIKMSWB5TgCmdyLB2I5",
      "include_colab_link": true
    },
    "kernelspec": {
      "name": "python3",
      "display_name": "Python 3"
    }
  },
  "cells": [
    {
      "cell_type": "markdown",
      "metadata": {
        "id": "view-in-github",
        "colab_type": "text"
      },
      "source": [
        "<a href=\"https://colab.research.google.com/github/raviyadav44/Nlp_practice/blob/main/Untitled14.ipynb\" target=\"_parent\"><img src=\"https://colab.research.google.com/assets/colab-badge.svg\" alt=\"Open In Colab\"/></a>"
      ]
    },
    {
      "cell_type": "code",
      "metadata": {
        "id": "tkHeZwQuO2vv"
      },
      "source": [
        "import nltk\r\n"
      ],
      "execution_count": 1,
      "outputs": []
    },
    {
      "cell_type": "code",
      "metadata": {
        "id": "jfzLP_S-tj3G"
      },
      "source": [
        " #nltk.download()"
      ],
      "execution_count": null,
      "outputs": []
    },
    {
      "cell_type": "code",
      "metadata": {
        "id": "1VJrbUxlPPwf"
      },
      "source": [
        "from gensim.models import Word2Vec\r\n",
        "from nltk.corpus import stopwords\r\n",
        "import re"
      ],
      "execution_count": 13,
      "outputs": []
    },
    {
      "cell_type": "code",
      "metadata": {
        "id": "l4NGLx71P64Y"
      },
      "source": [
        "paragraph='''“Thank you, President Cowan, Mrs. President Cowen; distinguished guests, undistinguished guests, you know who you are,\r\n",
        " honored faculty and creepy Spanish teacher. And thank you to all the graduating class of 2009, I realize most of you are hungover \r\n",
        " and have splitting headaches and haven’t slept since Fat Tuesday, but you can’t graduate ’til I finish, so listen up.\r\n",
        "When I was asked to make the commencement speech, I immediately said yes. Then I went to look up what commencement meant which would\r\n",
        "have been easy if I had a dictionary, but most of the books in our house are Portia’s, and they’re all written in Australian. So I had\r\n",
        " to break the word down myself, to find out the meaning.\r\n",
        "Commencement: common, and cement, common cement. You commonly see cement on sidewalks. Sidewalks have cracks, and if you step on\r\n",
        " a crack, you break your mother’s back. So there’s that. But I’m honored that you’ve asked me here to speak at your common cement.'''"
      ],
      "execution_count": 4,
      "outputs": []
    },
    {
      "cell_type": "code",
      "metadata": {
        "id": "wciFLmwUQupS"
      },
      "source": [
        "text=re.sub(r'\\W',' ',paragraph)\r\n",
        "text=re.sub(r'\\s+',' ',text)\r\n",
        "text=text.lower()\r\n",
        "text=re.sub(r'\\d',' ',text)\r\n",
        "text=re.sub(r'\\s+',' ',text)\r\n"
      ],
      "execution_count": 5,
      "outputs": []
    },
    {
      "cell_type": "code",
      "metadata": {
        "id": "leAC9rdasnau"
      },
      "source": [
        "sentences=nltk.sent_tokenize(text)"
      ],
      "execution_count": 6,
      "outputs": []
    },
    {
      "cell_type": "code",
      "metadata": {
        "id": "acNOg2DGsUxj"
      },
      "source": [
        "sentences=[nltk.word_tokenize(sentence) for sentence in sentences]\r\n",
        "sentences"
      ],
      "execution_count": null,
      "outputs": []
    },
    {
      "cell_type": "code",
      "metadata": {
        "id": "SUy7wuuTtdUs"
      },
      "source": [
        "for i in range(len(sentences)):\r\n",
        "  sentences[i]=[word for word in sentences[i] if word not in stopwords.words('english')]"
      ],
      "execution_count": 9,
      "outputs": []
    },
    {
      "cell_type": "code",
      "metadata": {
        "id": "QphAZJ4-vbuE"
      },
      "source": [
        "model=Word2Vec(sentences,min_count=1)# at this points all our paragraph is converted in to words where each word is represented by different umber of vectors . \r\n",
        "#this is generally used for large datasets.and this method is better than bagofword and TF-IDF."
      ],
      "execution_count": 15,
      "outputs": []
    },
    {
      "cell_type": "code",
      "metadata": {
        "id": "r_LHZyokwQ1W"
      },
      "source": [
        "words=model.wv.vocab"
      ],
      "execution_count": 17,
      "outputs": []
    },
    {
      "cell_type": "code",
      "metadata": {
        "id": "ehNNyFVe8n5X"
      },
      "source": [
        "vector=model.wv['creepy']#here we are trying to see the vectors related to creepy"
      ],
      "execution_count": 19,
      "outputs": []
    },
    {
      "cell_type": "code",
      "metadata": {
        "id": "EsuQa2Dx-HBL"
      },
      "source": [
        "vector#vectors associated with word creepy"
      ],
      "execution_count": null,
      "outputs": []
    },
    {
      "cell_type": "code",
      "metadata": {
        "id": "9IB89qTb-tqD"
      },
      "source": [
        "similar=model.wv.most_similar('creepy')#we are trying to get the similar vectors related to the word creepy"
      ],
      "execution_count": 21,
      "outputs": []
    },
    {
      "cell_type": "code",
      "metadata": {
        "colab": {
          "base_uri": "https://localhost:8080/"
        },
        "id": "PcEFCnUVAUFN",
        "outputId": "5c17f653-3097-4035-8d3c-1d18b5949412"
      },
      "source": [
        "similar"
      ],
      "execution_count": 22,
      "outputs": [
        {
          "output_type": "execute_result",
          "data": {
            "text/plain": [
              "[('commencement', 0.21629056334495544),\n",
              " ('realize', 0.16294556856155396),\n",
              " ('graduating', 0.15241208672523499),\n",
              " ('listen', 0.1368066817522049),\n",
              " ('hungover', 0.11756180226802826),\n",
              " ('finish', 0.1154857873916626),\n",
              " ('mrs', 0.11269742250442505),\n",
              " ('honored', 0.10935045778751373),\n",
              " ('said', 0.10044384747743607),\n",
              " ('make', 0.10027414560317993)]"
            ]
          },
          "metadata": {
            "tags": []
          },
          "execution_count": 22
        }
      ]
    },
    {
      "cell_type": "code",
      "metadata": {
        "id": "D5bJDRkQAnB8"
      },
      "source": [
        ""
      ],
      "execution_count": null,
      "outputs": []
    }
  ]
}