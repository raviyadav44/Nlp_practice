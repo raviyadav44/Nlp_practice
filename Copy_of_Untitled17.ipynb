{
  "nbformat": 4,
  "nbformat_minor": 0,
  "metadata": {
    "colab": {
      "name": "Copy of Untitled17.ipynb",
      "provenance": [],
      "mount_file_id": "1z1StvvamgpCWQM6l45eBC8rPZSZ1s2sd",
      "authorship_tag": "ABX9TyPKzzvaQZ8GKM27nliXNop0",
      "include_colab_link": true
    },
    "kernelspec": {
      "name": "python3",
      "display_name": "Python 3"
    }
  },
  "cells": [
    {
      "cell_type": "markdown",
      "metadata": {
        "id": "view-in-github",
        "colab_type": "text"
      },
      "source": [
        "<a href=\"https://colab.research.google.com/github/raviyadav44/Nlp_practice/blob/main/Copy_of_Untitled17.ipynb\" target=\"_parent\"><img src=\"https://colab.research.google.com/assets/colab-badge.svg\" alt=\"Open In Colab\"/></a>"
      ]
    },
    {
      "cell_type": "code",
      "metadata": {
        "id": "tB_fIhEN9Amp"
      },
      "source": [
        "import nltk\r\n"
      ],
      "execution_count": 1,
      "outputs": []
    },
    {
      "cell_type": "code",
      "metadata": {
        "id": "dGSYav5c9DS7"
      },
      "source": [
        "#nltk.download()"
      ],
      "execution_count": 2,
      "outputs": []
    },
    {
      "cell_type": "code",
      "metadata": {
        "id": "oU5-5ob09Flu"
      },
      "source": [
        "import pandas as pd\r\n",
        "import matplotlib.pyplot as plt\r\n",
        "import seaborn as sns\r\n",
        "import numpy as np\r\n",
        "from nltk.corpus import stopwords\r\n",
        "from nltk.util import ngrams\r\n",
        "from sklearn.feature_extraction.text import CountVectorizer\r\n",
        "from collections import defaultdict\r\n",
        "from collections import  Counter\r\n",
        "plt.style.use('ggplot')\r\n",
        "stop=set(stopwords.words('english'))\r\n",
        "import re\r\n",
        "from nltk.tokenize import word_tokenize\r\n",
        "import gensim\r\n",
        "import string\r\n",
        "from keras.preprocessing.text import Tokenizer\r\n",
        "from keras.preprocessing.sequence import pad_sequences\r\n",
        "from tqdm import tqdm\r\n",
        "from keras.models import Sequential\r\n",
        "from keras.layers import Embedding,LSTM,Dense,SpatialDropout1D\r\n",
        "from keras.initializers import Constant\r\n",
        "from sklearn.model_selection import train_test_split\r\n",
        "from keras.optimizers import Adam"
      ],
      "execution_count": 3,
      "outputs": []
    },
    {
      "cell_type": "code",
      "metadata": {
        "id": "aHMxCiGr9Z_J"
      },
      "source": [
        "train=pd.read_csv(\"/content/drive/MyDrive/twitter_fake_news/train_fake_news.csv\")\r\n",
        "test=pd.read_csv(\"/content/drive/MyDrive/twitter_fake_news/test_fake_news.csv\")\r\n"
      ],
      "execution_count": 4,
      "outputs": []
    },
    {
      "cell_type": "code",
      "metadata": {
        "colab": {
          "base_uri": "https://localhost:8080/",
          "height": 195
        },
        "id": "vbkwyq7C_JXp",
        "outputId": "89ea13b5-ef8d-4e0a-d648-dc7ad80eebd6"
      },
      "source": [
        "train.head()"
      ],
      "execution_count": 5,
      "outputs": [
        {
          "output_type": "execute_result",
          "data": {
            "text/html": [
              "<div>\n",
              "<style scoped>\n",
              "    .dataframe tbody tr th:only-of-type {\n",
              "        vertical-align: middle;\n",
              "    }\n",
              "\n",
              "    .dataframe tbody tr th {\n",
              "        vertical-align: top;\n",
              "    }\n",
              "\n",
              "    .dataframe thead th {\n",
              "        text-align: right;\n",
              "    }\n",
              "</style>\n",
              "<table border=\"1\" class=\"dataframe\">\n",
              "  <thead>\n",
              "    <tr style=\"text-align: right;\">\n",
              "      <th></th>\n",
              "      <th>id</th>\n",
              "      <th>keyword</th>\n",
              "      <th>location</th>\n",
              "      <th>text</th>\n",
              "      <th>target</th>\n",
              "    </tr>\n",
              "  </thead>\n",
              "  <tbody>\n",
              "    <tr>\n",
              "      <th>0</th>\n",
              "      <td>1</td>\n",
              "      <td>NaN</td>\n",
              "      <td>NaN</td>\n",
              "      <td>Our Deeds are the Reason of this #earthquake M...</td>\n",
              "      <td>1</td>\n",
              "    </tr>\n",
              "    <tr>\n",
              "      <th>1</th>\n",
              "      <td>4</td>\n",
              "      <td>NaN</td>\n",
              "      <td>NaN</td>\n",
              "      <td>Forest fire near La Ronge Sask. Canada</td>\n",
              "      <td>1</td>\n",
              "    </tr>\n",
              "    <tr>\n",
              "      <th>2</th>\n",
              "      <td>5</td>\n",
              "      <td>NaN</td>\n",
              "      <td>NaN</td>\n",
              "      <td>All residents asked to 'shelter in place' are ...</td>\n",
              "      <td>1</td>\n",
              "    </tr>\n",
              "    <tr>\n",
              "      <th>3</th>\n",
              "      <td>6</td>\n",
              "      <td>NaN</td>\n",
              "      <td>NaN</td>\n",
              "      <td>13,000 people receive #wildfires evacuation or...</td>\n",
              "      <td>1</td>\n",
              "    </tr>\n",
              "    <tr>\n",
              "      <th>4</th>\n",
              "      <td>7</td>\n",
              "      <td>NaN</td>\n",
              "      <td>NaN</td>\n",
              "      <td>Just got sent this photo from Ruby #Alaska as ...</td>\n",
              "      <td>1</td>\n",
              "    </tr>\n",
              "  </tbody>\n",
              "</table>\n",
              "</div>"
            ],
            "text/plain": [
              "   id keyword  ...                                               text target\n",
              "0   1     NaN  ...  Our Deeds are the Reason of this #earthquake M...      1\n",
              "1   4     NaN  ...             Forest fire near La Ronge Sask. Canada      1\n",
              "2   5     NaN  ...  All residents asked to 'shelter in place' are ...      1\n",
              "3   6     NaN  ...  13,000 people receive #wildfires evacuation or...      1\n",
              "4   7     NaN  ...  Just got sent this photo from Ruby #Alaska as ...      1\n",
              "\n",
              "[5 rows x 5 columns]"
            ]
          },
          "metadata": {
            "tags": []
          },
          "execution_count": 5
        }
      ]
    },
    {
      "cell_type": "code",
      "metadata": {
        "colab": {
          "base_uri": "https://localhost:8080/"
        },
        "id": "DyK9R2ux_Owi",
        "outputId": "867dcbfc-2a46-47fe-a1b7-bee071941d5e"
      },
      "source": [
        "train.info()"
      ],
      "execution_count": 6,
      "outputs": [
        {
          "output_type": "stream",
          "text": [
            "<class 'pandas.core.frame.DataFrame'>\n",
            "RangeIndex: 7613 entries, 0 to 7612\n",
            "Data columns (total 5 columns):\n",
            " #   Column    Non-Null Count  Dtype \n",
            "---  ------    --------------  ----- \n",
            " 0   id        7613 non-null   int64 \n",
            " 1   keyword   7552 non-null   object\n",
            " 2   location  5080 non-null   object\n",
            " 3   text      7613 non-null   object\n",
            " 4   target    7613 non-null   int64 \n",
            "dtypes: int64(2), object(3)\n",
            "memory usage: 297.5+ KB\n"
          ],
          "name": "stdout"
        }
      ]
    },
    {
      "cell_type": "code",
      "metadata": {
        "id": "8HuBR1g2MPuy",
        "colab": {
          "base_uri": "https://localhost:8080/",
          "height": 315
        },
        "outputId": "4cc7a5c0-8ac2-4262-a8b1-0984f54c69f9"
      },
      "source": [
        "plt.hist(train['target'],bins=5,label=[0,1])"
      ],
      "execution_count": 7,
      "outputs": [
        {
          "output_type": "execute_result",
          "data": {
            "text/plain": [
              "(array([4342.,    0.,    0.,    0., 3271.]),\n",
              " array([0. , 0.2, 0.4, 0.6, 0.8, 1. ]),\n",
              " <a list of 5 Patch objects>)"
            ]
          },
          "metadata": {
            "tags": []
          },
          "execution_count": 7
        },
        {
          "output_type": "display_data",
          "data": {
            "image/png": "[encoded data removed]",
            "text/plain": [
              "<Figure size 432x288 with 1 Axes>"
            ]
          },
          "metadata": {
            "tags": []
          }
        }
      ]
    },
    {
      "cell_type": "code",
      "metadata": {
        "colab": {
          "base_uri": "https://localhost:8080/"
        },
        "id": "IN3yK74dk4XZ",
        "outputId": "4929f575-5eb9-4c4b-8640-0f664d71d01d"
      },
      "source": [
        "train['location'].isnull().sum()"
      ],
      "execution_count": 8,
      "outputs": [
        {
          "output_type": "execute_result",
          "data": {
            "text/plain": [
              "2533"
            ]
          },
          "metadata": {
            "tags": []
          },
          "execution_count": 8
        }
      ]
    },
    {
      "cell_type": "code",
      "metadata": {
        "id": "ewQkya0S_S0X"
      },
      "source": [
        "d=train.drop(['id','keyword','location','target'],axis=1)"
      ],
      "execution_count": 9,
      "outputs": []
    },
    {
      "cell_type": "code",
      "metadata": {
        "colab": {
          "base_uri": "https://localhost:8080/"
        },
        "id": "fx11DflMArBG",
        "outputId": "ce8c0ea3-88c8-4502-b18c-36fbdd6ac7d1"
      },
      "source": [
        "d.shape"
      ],
      "execution_count": 10,
      "outputs": [
        {
          "output_type": "execute_result",
          "data": {
            "text/plain": [
              "(7613, 1)"
            ]
          },
          "metadata": {
            "tags": []
          },
          "execution_count": 10
        }
      ]
    },
    {
      "cell_type": "code",
      "metadata": {
        "id": "WQa5SMBWAAFe"
      },
      "source": [
        "train.drop_duplicates(keep='first',inplace=True)"
      ],
      "execution_count": 11,
      "outputs": []
    },
    {
      "cell_type": "code",
      "metadata": {
        "colab": {
          "base_uri": "https://localhost:8080/"
        },
        "id": "D1qvf_dGjDD-",
        "outputId": "9861ee43-5f80-4ba0-9e13-099f4bbbe397"
      },
      "source": [
        "train.isnull().sum()"
      ],
      "execution_count": 12,
      "outputs": [
        {
          "output_type": "execute_result",
          "data": {
            "text/plain": [
              "id             0\n",
              "keyword       61\n",
              "location    2533\n",
              "text           0\n",
              "target         0\n",
              "dtype: int64"
            ]
          },
          "metadata": {
            "tags": []
          },
          "execution_count": 12
        }
      ]
    },
    {
      "cell_type": "code",
      "metadata": {
        "id": "4tQU8DDktzjr"
      },
      "source": [
        "train=train.dropna()"
      ],
      "execution_count": 13,
      "outputs": []
    },
    {
      "cell_type": "code",
      "metadata": {
        "colab": {
          "base_uri": "https://localhost:8080/"
        },
        "id": "oqtRGK2ct5X1",
        "outputId": "c4664e58-6843-4a80-9cb5-733a4b8429d3"
      },
      "source": [
        "train.shape"
      ],
      "execution_count": 14,
      "outputs": [
        {
          "output_type": "execute_result",
          "data": {
            "text/plain": [
              "(5080, 5)"
            ]
          },
          "metadata": {
            "tags": []
          },
          "execution_count": 14
        }
      ]
    },
    {
      "cell_type": "code",
      "metadata": {
        "id": "B1jxnQVKyR3Y"
      },
      "source": [
        "import seaborn as sns\r\n",
        "sns.set()"
      ],
      "execution_count": 15,
      "outputs": []
    },
    {
      "cell_type": "code",
      "metadata": {
        "colab": {
          "base_uri": "https://localhost:8080/",
          "height": 346
        },
        "id": "MT-LbxoazD9I",
        "outputId": "963721ec-663d-41a6-94f1-05cca140e300"
      },
      "source": [
        "sns.countplot(train.keyword,)\r\n",
        "plt.tight_layout()"
      ],
      "execution_count": 16,
      "outputs": [
        {
          "output_type": "stream",
          "text": [
            "/usr/local/lib/python3.6/dist-packages/seaborn/_decorators.py:43: FutureWarning: Pass the following variable as a keyword arg: x. From version 0.12, the only valid positional argument will be `data`, and passing other arguments without an explicit keyword will result in an error or misinterpretation.\n",
            "  FutureWarning\n"
          ],
          "name": "stderr"
        },
        {
          "output_type": "display_data",
          "data": {
            "image/png": "[encoded data removed]",
            "text/plain": [
              "<Figure size 432x288 with 1 Axes>"
            ]
          },
          "metadata": {
            "tags": []
          }
        }
      ]
    },
    {
      "cell_type": "code",
      "metadata": {
        "colab": {
          "base_uri": "https://localhost:8080/",
          "height": 35
        },
        "id": "s4ZaGBQi1ZC4",
        "outputId": "9e94a8bb-0e17-4db9-aa3b-717bad991d12"
      },
      "source": [
        "train['text'][31]"
      ],
      "execution_count": 17,
      "outputs": [
        {
          "output_type": "execute_result",
          "data": {
            "application/vnd.google.colaboratory.intrinsic+json": {
              "type": "string"
            },
            "text/plain": [
              "'@bbcmtd Wholesale Markets ablaze http://t.co/lHYXEOHY6C'"
            ]
          },
          "metadata": {
            "tags": []
          },
          "execution_count": 17
        }
      ]
    },
    {
      "cell_type": "code",
      "metadata": {
        "id": "qK6eFVqf4DpE"
      },
      "source": [
        "message=train.copy()"
      ],
      "execution_count": 18,
      "outputs": []
    },
    {
      "cell_type": "code",
      "metadata": {
        "id": "ECd77mzD4S4b"
      },
      "source": [
        "message.reset_index(inplace=True)"
      ],
      "execution_count": 19,
      "outputs": []
    },
    {
      "cell_type": "code",
      "metadata": {
        "id": "A9abTJWO_x9B"
      },
      "source": [
        "#preprocessing of data\r\n",
        "import re\r\n",
        "from nltk.corpus import stopwords\r\n",
        "from nltk.stem import WordNetLemmatizer\r\n",
        "from nltk.stem import PorterStemmer\r\n",
        "lemma=WordNetLemmatizer()\r\n",
        "ps = PorterStemmer()\r\n",
        "def remove_URL(sample):\r\n",
        "    \"\"\"Remove URLs from a sample string\"\"\"\r\n",
        "    return re.sub(r\"http\\S+\", \"\", sample)\r\n",
        "corpus=[]\r\n",
        "for i in range(0,(len(message))):\r\n",
        "  words= remove_URL( message['text'][i])\r\n",
        "  words=re.sub('[^a-zA-Z]',' ',words)\r\n",
        "  words=re.sub('\\W',' ', words)\r\n",
        "  words=words.lower()\r\n",
        "  words=words.split()\r\n",
        "  words=[ps.stem(word) for word in words if word not in set(stopwords.words('english'))]\r\n",
        "  words=' '.join(words)\r\n",
        "  corpus.append(words)\r\n",
        "\r\n"
      ],
      "execution_count": 20,
      "outputs": []
    },
    {
      "cell_type": "code",
      "metadata": {
        "id": "-H95uKxSDDc_"
      },
      "source": [
        "from sklearn.feature_extraction.text import CountVectorizer, TfidfVectorizer, HashingVectorizer\r\n",
        "from sklearn.feature_extraction.text import CountVectorizer\r\n",
        "cv = CountVectorizer(max_features=1400,ngram_range=(1,3))\r\n",
        "X = cv.fit_transform(corpus).toarray()"
      ],
      "execution_count": 21,
      "outputs": []
    },
    {
      "cell_type": "code",
      "metadata": {
        "id": "kwkgLsqU4_8o"
      },
      "source": [
        "y=train['target']"
      ],
      "execution_count": 22,
      "outputs": []
    },
    {
      "cell_type": "code",
      "metadata": {
        "colab": {
          "base_uri": "https://localhost:8080/"
        },
        "id": "zEPuwMyFSsL9",
        "outputId": "e74c3d70-cbc4-445e-ef14-f5090f65188a"
      },
      "source": [
        "X.shape"
      ],
      "execution_count": 23,
      "outputs": [
        {
          "output_type": "execute_result",
          "data": {
            "text/plain": [
              "(5080, 1400)"
            ]
          },
          "metadata": {
            "tags": []
          },
          "execution_count": 23
        }
      ]
    },
    {
      "cell_type": "code",
      "metadata": {
        "id": "IjOOhbGtS8Jl"
      },
      "source": [
        "from sklearn.model_selection import train_test_split\r\n",
        "X_train, X_test, y_train, y_test = train_test_split(X, y, test_size=0.33, random_state=0)"
      ],
      "execution_count": 24,
      "outputs": []
    },
    {
      "cell_type": "code",
      "metadata": {
        "colab": {
          "base_uri": "https://localhost:8080/"
        },
        "id": "VzJ-hxYpTbnx",
        "outputId": "29d5150a-dbcd-431b-badf-3b96bb2783ef"
      },
      "source": [
        "cv.get_feature_names()[:20]"
      ],
      "execution_count": 25,
      "outputs": [
        {
          "output_type": "execute_result",
          "data": {
            "text/plain": [
              "['aba',\n",
              " 'aba woman',\n",
              " 'aba woman deliv',\n",
              " 'abandon',\n",
              " 'abc',\n",
              " 'ablaz',\n",
              " 'abus',\n",
              " 'accid',\n",
              " 'account',\n",
              " 'across',\n",
              " 'act',\n",
              " 'action',\n",
              " 'activ',\n",
              " 'actual',\n",
              " 'ad',\n",
              " 'ad video',\n",
              " 'ad video youtub',\n",
              " 'af',\n",
              " 'affect',\n",
              " 'affect fatal']"
            ]
          },
          "metadata": {
            "tags": []
          },
          "execution_count": 25
        }
      ]
    },
    {
      "cell_type": "code",
      "metadata": {
        "colab": {
          "base_uri": "https://localhost:8080/"
        },
        "id": "Gqb4PWtdTf8j",
        "outputId": "3b89cff3-7a4c-4974-a5ab-588402d7edd4"
      },
      "source": [
        "cv.get_params()"
      ],
      "execution_count": 26,
      "outputs": [
        {
          "output_type": "execute_result",
          "data": {
            "text/plain": [
              "{'analyzer': 'word',\n",
              " 'binary': False,\n",
              " 'decode_error': 'strict',\n",
              " 'dtype': numpy.int64,\n",
              " 'encoding': 'utf-8',\n",
              " 'input': 'content',\n",
              " 'lowercase': True,\n",
              " 'max_df': 1.0,\n",
              " 'max_features': 1400,\n",
              " 'min_df': 1,\n",
              " 'ngram_range': (1, 3),\n",
              " 'preprocessor': None,\n",
              " 'stop_words': None,\n",
              " 'strip_accents': None,\n",
              " 'token_pattern': '(?u)\\\\b\\\\w\\\\w+\\\\b',\n",
              " 'tokenizer': None,\n",
              " 'vocabulary': None}"
            ]
          },
          "metadata": {
            "tags": []
          },
          "execution_count": 26
        }
      ]
    },
    {
      "cell_type": "code",
      "metadata": {
        "id": "kUK5lKKGTot6"
      },
      "source": [
        "def plot_confusion_matrix(cm, classes,\r\n",
        "                          normalize=False,\r\n",
        "                          title='Confusion matrix',\r\n",
        "                          cmap=plt.cm.Blues):\r\n",
        "    \"\"\"\r\n",
        "    See full source and example: \r\n",
        "    http://scikit-learn.org/stable/auto_examples/model_selection/plot_confusion_matrix.html\r\n",
        "    \r\n",
        "    This function prints and plots the confusion matrix.\r\n",
        "    Normalization can be applied by setting `normalize=True`.\r\n",
        "    \"\"\"\r\n",
        "    plt.imshow(cm, interpolation='nearest', cmap=cmap)\r\n",
        "    plt.title(title)\r\n",
        "    plt.colorbar()\r\n",
        "    tick_marks = np.arange(len(classes))\r\n",
        "    plt.xticks(tick_marks, classes, rotation=45)\r\n",
        "    plt.yticks(tick_marks, classes)\r\n",
        "\r\n",
        "    if normalize:\r\n",
        "        cm = cm.astype('float') / cm.sum(axis=1)[:, np.newaxis]\r\n",
        "        print(\"Normalized confusion matrix\")\r\n",
        "    else:\r\n",
        "        print('Confusion matrix, without normalization')\r\n",
        "\r\n",
        "    thresh = cm.max() / 2.\r\n",
        "    for i, j in itertools.product(range(cm.shape[0]), range(cm.shape[1])):\r\n",
        "        plt.text(j, i, cm[i, j],\r\n",
        "                 horizontalalignment=\"center\",\r\n",
        "                 color=\"white\" if cm[i, j] > thresh else \"black\")\r\n",
        "\r\n",
        "    plt.tight_layout()\r\n",
        "    plt.ylabel('True label')\r\n",
        "    plt.xlabel('Predicted label')"
      ],
      "execution_count": 27,
      "outputs": []
    },
    {
      "cell_type": "code",
      "metadata": {
        "id": "Kd8Kt2D3ZXmZ"
      },
      "source": [
        "from sklearn.naive_bayes import MultinomialNB\r\n",
        "classifier=MultinomialNB()"
      ],
      "execution_count": 28,
      "outputs": []
    },
    {
      "cell_type": "code",
      "metadata": {
        "id": "e4SfYrk0ZjEp"
      },
      "source": [
        "from sklearn import metrics\r\n",
        "import numpy as np\r\n",
        "import itertools"
      ],
      "execution_count": 29,
      "outputs": []
    },
    {
      "cell_type": "code",
      "metadata": {
        "colab": {
          "base_uri": "https://localhost:8080/",
          "height": 344
        },
        "id": "knZeFgPeZpTt",
        "outputId": "25ef5e7b-cd03-4f6d-9558-88c7e42ec257"
      },
      "source": [
        "classifier.fit(X_train, y_train)\r\n",
        "pred = classifier.predict(X_test)\r\n",
        "score = metrics.accuracy_score(y_test, pred)\r\n",
        "print(\"accuracy:   %0.3f\" % score)\r\n",
        "cm = metrics.confusion_matrix(y_test, pred)\r\n",
        "plot_confusion_matrix(cm, classes=['FAKE', 'REAL'])"
      ],
      "execution_count": 30,
      "outputs": [
        {
          "output_type": "stream",
          "text": [
            "accuracy:   0.780\n",
            "Confusion matrix, without normalization\n"
          ],
          "name": "stdout"
        },
        {
          "output_type": "display_data",
          "data": {
            "image/png": "[encoded data removed]",
            "text/plain": [
              "<Figure size 432x288 with 2 Axes>"
            ]
          },
          "metadata": {
            "tags": []
          }
        }
      ]
    },
    {
      "cell_type": "code",
      "metadata": {
        "colab": {
          "base_uri": "https://localhost:8080/"
        },
        "id": "szryOs_YZtTp",
        "outputId": "383a3682-e989-4031-b1aa-5222fe215dbe"
      },
      "source": [
        "classifier.fit(X_train, y_train)\r\n",
        "pred = classifier.predict(X_test)\r\n",
        "score = metrics.accuracy_score(y_test, pred)\r\n",
        "score"
      ],
      "execution_count": 31,
      "outputs": [
        {
          "output_type": "execute_result",
          "data": {
            "text/plain": [
              "0.7799642218246869"
            ]
          },
          "metadata": {
            "tags": []
          },
          "execution_count": 31
        }
      ]
    },
    {
      "cell_type": "markdown",
      "metadata": {
        "id": "aEiKu2gHbXxl"
      },
      "source": [
        "Passive Aggressive Classifier Algorithm\r\n"
      ]
    },
    {
      "cell_type": "code",
      "metadata": {
        "id": "c2uXjSxDZuZB"
      },
      "source": [
        "from sklearn.linear_model import PassiveAggressiveClassifier\r\n",
        "linear_clf = PassiveAggressiveClassifier(n_iter_no_change=50)"
      ],
      "execution_count": 32,
      "outputs": []
    },
    {
      "cell_type": "code",
      "metadata": {
        "colab": {
          "base_uri": "https://localhost:8080/",
          "height": 344
        },
        "id": "JczXk25Gbetf",
        "outputId": "72b08dd4-05f7-4ca7-8934-e1ad81bfc606"
      },
      "source": [
        "linear_clf.fit(X_train, y_train)\r\n",
        "pred = linear_clf.predict(X_test)\r\n",
        "score = metrics.accuracy_score(y_test, pred)\r\n",
        "print(\"accuracy:   %0.3f\" % score)\r\n",
        "cm = metrics.confusion_matrix(y_test, pred)\r\n",
        "plot_confusion_matrix(cm, classes=['FAKE Data', 'REAL Data'])"
      ],
      "execution_count": 33,
      "outputs": [
        {
          "output_type": "stream",
          "text": [
            "accuracy:   0.694\n",
            "Confusion matrix, without normalization\n"
          ],
          "name": "stdout"
        },
        {
          "output_type": "display_data",
          "data": {
            "image/png": "[encoded data removed]",
            "text/plain": [
              "<Figure size 432x288 with 2 Axes>"
            ]
          },
          "metadata": {
            "tags": []
          }
        }
      ]
    },
    {
      "cell_type": "markdown",
      "metadata": {
        "id": "0WGyDX5GcBUu"
      },
      "source": [
        "Multinomial Classifier with Hyperparameter"
      ]
    },
    {
      "cell_type": "code",
      "metadata": {
        "id": "yYswVk4Pb2oK"
      },
      "source": [
        "classifier=MultinomialNB(alpha=0.1)"
      ],
      "execution_count": 34,
      "outputs": []
    },
    {
      "cell_type": "code",
      "metadata": {
        "colab": {
          "base_uri": "https://localhost:8080/"
        },
        "id": "dGFTlUe1cFZV",
        "outputId": "5c3ab18c-8b66-42d6-fb5e-adee1e2f731a"
      },
      "source": [
        "previous_score=0\r\n",
        "for alpha in np.arange(0,1,0.1):\r\n",
        "    sub_classifier=MultinomialNB(alpha=alpha)\r\n",
        "    sub_classifier.fit(X_train,y_train)\r\n",
        "    y_pred=sub_classifier.predict(X_test)\r\n",
        "    score = metrics.accuracy_score(y_test, y_pred)\r\n",
        "    if score>previous_score:\r\n",
        "        classifier=sub_classifier\r\n",
        "    print(\"Alpha: {}, Score : {}\".format(alpha,score))"
      ],
      "execution_count": 35,
      "outputs": [
        {
          "output_type": "stream",
          "text": [
            "/usr/local/lib/python3.6/dist-packages/sklearn/naive_bayes.py:507: UserWarning: alpha too small will result in numeric errors, setting alpha = 1.0e-10\n",
            "  'setting alpha = %.1e' % _ALPHA_MIN)\n"
          ],
          "name": "stderr"
        },
        {
          "output_type": "stream",
          "text": [
            "Alpha: 0.0, Score : 0.7668455575432319\n",
            "Alpha: 0.1, Score : 0.7698270721526536\n",
            "Alpha: 0.2, Score : 0.7734048896839595\n",
            "Alpha: 0.30000000000000004, Score : 0.7740011926058438\n",
            "Alpha: 0.4, Score : 0.7775790101371497\n",
            "Alpha: 0.5, Score : 0.7775790101371497\n",
            "Alpha: 0.6000000000000001, Score : 0.7769827072152653\n",
            "Alpha: 0.7000000000000001, Score : 0.7775790101371497\n",
            "Alpha: 0.8, Score : 0.778175313059034\n",
            "Alpha: 0.9, Score : 0.7805605247465712\n"
          ],
          "name": "stdout"
        }
      ]
    },
    {
      "cell_type": "code",
      "metadata": {
        "id": "h8cql0nWcPWw"
      },
      "source": [
        "feature_names = cv.get_feature_names()"
      ],
      "execution_count": 36,
      "outputs": []
    },
    {
      "cell_type": "code",
      "metadata": {
        "colab": {
          "base_uri": "https://localhost:8080/"
        },
        "id": "4pffd0swcSqk",
        "outputId": "a92df20a-8539-45ed-d4a0-c4836ddf97bb"
      },
      "source": [
        "classifier.coef_[0]"
      ],
      "execution_count": 37,
      "outputs": [
        {
          "output_type": "execute_result",
          "data": {
            "text/plain": [
              "array([-7.8852371 , -8.11349575, -8.11349575, ..., -6.58967159,\n",
              "       -6.70815319, -7.28842103])"
            ]
          },
          "metadata": {
            "tags": []
          },
          "execution_count": 37
        }
      ]
    },
    {
      "cell_type": "code",
      "metadata": {
        "colab": {
          "base_uri": "https://localhost:8080/"
        },
        "id": "NoA9O6R_cWA4",
        "outputId": "5dd9893d-548d-441d-84e7-0d46f82ffa79"
      },
      "source": [
        "\r\n",
        "sorted(zip(classifier.coef_[0], feature_names), reverse=True)[:20]"
      ],
      "execution_count": 38,
      "outputs": [
        {
          "output_type": "execute_result",
          "data": {
            "text/plain": [
              "[(-4.638984362917402, 'fire'),\n",
              " (-4.953771274606061, 'bomb'),\n",
              " (-5.1319664274561045, 'kill'),\n",
              " (-5.3016246802576585, 'via'),\n",
              " (-5.332926140261308, 'flood'),\n",
              " (-5.348952124277153, 'attack'),\n",
              " (-5.3817957988463, 'build'),\n",
              " (-5.3817957988463, 'amp'),\n",
              " (-5.415754919388753, 'polic'),\n",
              " (-5.45090792380665, 'news'),\n",
              " (-5.45090792380665, 'like'),\n",
              " (-5.5251535137958605, 'evacu'),\n",
              " (-5.56445130121023, 'train'),\n",
              " (-5.56445130121023, 'crash'),\n",
              " (-5.584694907486877, 'burn'),\n",
              " (-5.605356799550833, 'famili'),\n",
              " (-5.62645462851547, 'peopl'),\n",
              " (-5.62645462851547, 'get'),\n",
              " (-5.62645462851547, 'disast'),\n",
              " (-5.648007186901204, 'suicid')]"
            ]
          },
          "metadata": {
            "tags": []
          },
          "execution_count": 38
        }
      ]
    },
    {
      "cell_type": "code",
      "metadata": {
        "colab": {
          "base_uri": "https://localhost:8080/"
        },
        "id": "e0t1kzeiccpK",
        "outputId": "472cb392-087d-4997-b471-78cbc42de4f0"
      },
      "source": [
        "sorted(zip(classifier.coef_[0], feature_names))[:5000]"
      ],
      "execution_count": 39,
      "outputs": [
        {
          "output_type": "execute_result",
          "data": {
            "text/plain": [
              "[(-9.57983281962553, 'ancient'),\n",
              " (-9.57983281962553, 'appli'),\n",
              " (-9.57983281962553, 'awesom'),\n",
              " (-9.57983281962553, 'ball'),\n",
              " (-9.57983281962553, 'beat'),\n",
              " (-9.57983281962553, 'bitch'),\n",
              " (-9.57983281962553, 'blew'),\n",
              " (-9.57983281962553, 'bloodi'),\n",
              " (-9.57983281962553, 'buy'),\n",
              " (-9.57983281962553, 'cat'),\n",
              " (-9.57983281962553, 'ceo'),\n",
              " (-9.57983281962553, 'charact'),\n",
              " (-9.57983281962553, 'commun'),\n",
              " (-9.57983281962553, 'david'),\n",
              " (-9.57983281962553, 'disney'),\n",
              " (-9.57983281962553, 'dream'),\n",
              " (-9.57983281962553, 'ear'),\n",
              " (-9.57983281962553, 'fashion'),\n",
              " (-9.57983281962553, 'favorit'),\n",
              " (-9.57983281962553, 'gay'),\n",
              " (-9.57983281962553, 'gt gt gt'),\n",
              " (-9.57983281962553, 'hire'),\n",
              " (-9.57983281962553, 'mayhem'),\n",
              " (-9.57983281962553, 'met'),\n",
              " (-9.57983281962553, 'mode'),\n",
              " (-9.57983281962553, 'name'),\n",
              " (-9.57983281962553, 'offens content'),\n",
              " (-9.57983281962553, 'panick'),\n",
              " (-9.57983281962553, 'paul'),\n",
              " (-9.57983281962553, 'quarantin offens'),\n",
              " (-9.57983281962553, 'quarantin offens content'),\n",
              " (-9.57983281962553, 'reddit quarantin offens'),\n",
              " (-9.57983281962553, 'sex'),\n",
              " (-9.57983281962553, 'social'),\n",
              " (-9.57983281962553, 'soul'),\n",
              " (-9.57983281962553, 'sound like'),\n",
              " (-9.57983281962553, 'technolog'),\n",
              " (-9.57983281962553, 'twister'),\n",
              " (-9.57983281962553, 'welcom'),\n",
              " (-9.57983281962553, 'worth'),\n",
              " (-8.832618417795308, 'aftershock'),\n",
              " (-8.832618417795308, 'album'),\n",
              " (-8.832618417795308, 'alreadi'),\n",
              " (-8.832618417795308, 'anymor'),\n",
              " (-8.832618417795308, 'art'),\n",
              " (-8.832618417795308, 'ask'),\n",
              " (-8.832618417795308, 'battl occur'),\n",
              " (-8.832618417795308, 'battl occur star'),\n",
              " (-8.832618417795308, 'bed'),\n",
              " (-8.832618417795308, 'biggest'),\n",
              " (-8.832618417795308, 'black eye space'),\n",
              " (-8.832618417795308, 'bless'),\n",
              " (-8.832618417795308, 'blight'),\n",
              " (-8.832618417795308, 'blizzard'),\n",
              " (-8.832618417795308, 'box'),\n",
              " (-8.832618417795308, 'cake'),\n",
              " (-8.832618417795308, 'cant'),\n",
              " (-8.832618417795308, 'chanc'),\n",
              " (-8.832618417795308, 'chile'),\n",
              " (-8.832618417795308, 'class'),\n",
              " (-8.832618417795308, 'combo'),\n",
              " (-8.832618417795308, 'comment'),\n",
              " (-8.832618417795308, 'coupl'),\n",
              " (-8.832618417795308, 'court'),\n",
              " (-8.832618417795308, 'cover'),\n",
              " (-8.832618417795308, 'cree led'),\n",
              " (-8.832618417795308, 'cree led work'),\n",
              " (-8.832618417795308, 'cri'),\n",
              " (-8.832618417795308, 'cross bodi'),\n",
              " (-8.832618417795308, 'cross bodi bag'),\n",
              " (-8.832618417795308, 'danc'),\n",
              " (-8.832618417795308, 'de'),\n",
              " (-8.832618417795308, 'design'),\n",
              " (-8.832618417795308, 'desol smaug'),\n",
              " (-8.832618417795308, 'dont'),\n",
              " (-8.832618417795308, 'ebay'),\n",
              " (-8.832618417795308, 'economi'),\n",
              " (-8.832618417795308, 'electr'),\n",
              " (-8.832618417795308, 'enjoy'),\n",
              " (-8.832618417795308, 'everyth'),\n",
              " (-8.832618417795308, 'faux'),\n",
              " (-8.832618417795308, 'faux leather'),\n",
              " (-8.832618417795308, 'feat'),\n",
              " (-8.832618417795308, 'feel like'),\n",
              " (-8.832618417795308, 'fleet'),\n",
              " (-8.832618417795308, 'fleet total'),\n",
              " (-8.832618417795308, 'full read ebay'),\n",
              " (-8.832618417795308, 'glass'),\n",
              " (-8.832618417795308, 'gop'),\n",
              " (-8.832618417795308, 'gt gt'),\n",
              " (-8.832618417795308, 'guess'),\n",
              " (-8.832618417795308, 'handbag'),\n",
              " (-8.832618417795308, 'happi'),\n",
              " (-8.832618417795308, 'hobo'),\n",
              " (-8.832618417795308, 'hollywood'),\n",
              " (-8.832618417795308, 'hollywood movi'),\n",
              " (-8.832618417795308, 'hollywood movi trap'),\n",
              " (-8.832618417795308, 'hurt'),\n",
              " (-8.832618417795308, 'ice'),\n",
              " (-8.832618417795308, 'imag take'),\n",
              " (-8.832618417795308, 'imag take quiz'),\n",
              " (-8.832618417795308, 'impact'),\n",
              " (-8.832618417795308, 'interest'),\n",
              " (-8.832618417795308, 'interview'),\n",
              " (-8.832618417795308, 'involv fleet total'),\n",
              " (-8.832618417795308, 'job'),\n",
              " (-8.832618417795308, 'king'),\n",
              " (-8.832618417795308, 'ladi shoulder'),\n",
              " (-8.832618417795308, 'ladi shoulder tote'),\n",
              " (-8.832618417795308, 'leather'),\n",
              " (-8.832618417795308, 'led'),\n",
              " (-8.832618417795308, 'led work'),\n",
              " (-8.832618417795308, 'led work light'),\n",
              " (-8.832618417795308, 'load'),\n",
              " (-8.832618417795308, 'loss'),\n",
              " (-8.832618417795308, 'low self'),\n",
              " (-8.832618417795308, 'low self imag'),\n",
              " (-8.832618417795308, 'manag'),\n",
              " (-8.832618417795308, 'militari'),\n",
              " (-8.832618417795308, 'mind'),\n",
              " (-8.832618417795308, 'miner'),\n",
              " (-8.832618417795308, 'miner releas'),\n",
              " (-8.832618417795308, 'miner releas chile'),\n",
              " (-8.832618417795308, 'movi trap'),\n",
              " (-8.832618417795308, 'movi trap miner'),\n",
              " (-8.832618417795308, 'music'),\n",
              " (-8.832618417795308, 'new ladi'),\n",
              " (-8.832618417795308, 'new ladi shoulder'),\n",
              " (-8.832618417795308, 'nowplay'),\n",
              " (-8.832618417795308, 'nurs'),\n",
              " (-8.832618417795308, 'occur star involv'),\n",
              " (-8.832618417795308, 'offens'),\n",
              " (-8.832618417795308, 'offroad'),\n",
              " (-8.832618417795308, 'play'),\n",
              " (-8.832618417795308, 'pretti'),\n",
              " (-8.832618417795308, 'purs'),\n",
              " (-8.832618417795308, 'put'),\n",
              " (-8.832618417795308, 'quiz'),\n",
              " (-8.832618417795308, 'read ebay'),\n",
              " (-8.832618417795308, 'reddit quarantin'),\n",
              " (-8.832618417795308, 'replac'),\n",
              " (-8.832618417795308, 'rule'),\n",
              " (-8.832618417795308, 'seek'),\n",
              " (-8.832618417795308, 'seen'),\n",
              " (-8.832618417795308, 'self imag'),\n",
              " (-8.832618417795308, 'self imag take'),\n",
              " (-8.832618417795308, 'shoulder tote'),\n",
              " (-8.832618417795308, 'shoulder tote handbag'),\n",
              " (-8.832618417795308, 'sleep'),\n",
              " (-8.832618417795308, 'smaug'),\n",
              " (-8.832618417795308, 'song'),\n",
              " (-8.832618417795308, 'sorri'),\n",
              " (-8.832618417795308, 'space'),\n",
              " (-8.832618417795308, 'space battl'),\n",
              " (-8.832618417795308, 'stage'),\n",
              " (-8.832618417795308, 'star involv'),\n",
              " (-8.832618417795308, 'star involv fleet'),\n",
              " (-8.832618417795308, 'tablet'),\n",
              " (-8.832618417795308, 'take quiz'),\n",
              " (-8.832618417795308, 'tote'),\n",
              " (-8.832618417795308, 'tote handbag'),\n",
              " (-8.832618417795308, 'trap miner'),\n",
              " (-8.832618417795308, 'trap miner releas'),\n",
              " (-8.832618417795308, 'traumatis'),\n",
              " (-8.832618417795308, 'tv'),\n",
              " (-8.832618417795308, 'understand'),\n",
              " (-8.832618417795308, 'work light'),\n",
              " (-8.832618417795308, 'wow'),\n",
              " (-8.409761566975275, 'abus'),\n",
              " (-8.409761566975275, 'account'),\n",
              " (-8.409761566975275, 'ad'),\n",
              " (-8.409761566975275, 'ad video'),\n",
              " (-8.409761566975275, 'ad video youtub'),\n",
              " (-8.409761566975275, 'ahead'),\n",
              " (-8.409761566975275, 'alon'),\n",
              " (-8.409761566975275, 'amazon'),\n",
              " (-8.409761566975275, 'angel'),\n",
              " (-8.409761566975275, 'anyon'),\n",
              " (-8.409761566975275, 'appear blast'),\n",
              " (-8.409761566975275, 'appear blast wind'),\n",
              " (-8.409761566975275, 'articl'),\n",
              " (-8.409761566975275, 'avalanch'),\n",
              " (-8.409761566975275, 'ban quarantin'),\n",
              " (-8.409761566975275, 'bang nearbi'),\n",
              " (-8.409761566975275, 'bang nearbi appear'),\n",
              " (-8.409761566975275, 'bar'),\n",
              " (-8.409761566975275, 'beach'),\n",
              " (-8.409761566975275, 'better'),\n",
              " (-8.409761566975275, 'black hat'),\n",
              " (-8.409761566975275, 'black hat prebreak'),\n",
              " (-8.409761566975275, 'blast wind'),\n",
              " (-8.409761566975275, 'blast wind neighbour'),\n",
              " (-8.409761566975275, 'bleed'),\n",
              " (-8.409761566975275, 'book'),\n",
              " (-8.409761566975275, 'break news unconfirm'),\n",
              " (-8.409761566975275, 'chief'),\n",
              " (-8.409761566975275, 'complet'),\n",
              " (-8.409761566975275, 'comput send'),\n",
              " (-8.409761566975275, 'comput send data'),\n",
              " (-8.409761566975275, 'content polici'),\n",
              " (-8.409761566975275, 'content polici goe'),\n",
              " (-8.409761566975275, 'cree'),\n",
              " (-8.409761566975275, 'crush'),\n",
              " (-8.409761566975275, 'dad'),\n",
              " (-8.409761566975275, 'data'),\n",
              " (-8.409761566975275, 'data sound'),\n",
              " (-8.409761566975275, 'data sound wave'),\n",
              " (-8.409761566975275, 'deep'),\n",
              " (-8.409761566975275, 'depart'),\n",
              " (-8.409761566975275, 'door'),\n",
              " (-8.409761566975275, 'drink'),\n",
              " (-8.409761566975275, 'effect mani'),\n",
              " (-8.409761566975275, 'effect mani horribl'),\n",
              " (-8.409761566975275, 'em'),\n",
              " (-8.409761566975275, 'emerg servic'),\n",
              " (-8.409761566975275, 'emmerdal'),\n",
              " (-8.409761566975275, 'entir'),\n",
              " (-8.409761566975275, 'flatten'),\n",
              " (-8.409761566975275, 'friday'),\n",
              " (-8.409761566975275, 'full read'),\n",
              " (-8.409761566975275, 'funtenna'),\n",
              " (-8.409761566975275, 'funtenna hijack'),\n",
              " (-8.409761566975275, 'funtenna hijack comput'),\n",
              " (-8.409761566975275, 'futur'),\n",
              " (-8.409761566975275, 'gave'),\n",
              " (-8.409761566975275, 'goe effect'),\n",
              " (-8.409761566975275, 'goe effect mani'),\n",
              " (-8.409761566975275, 'hard'),\n",
              " (-8.409761566975275, 'harm'),\n",
              " (-8.409761566975275, 'hat'),\n",
              " (-8.409761566975275, 'hat prebreak'),\n",
              " (-8.409761566975275, 'hat prebreak best'),\n",
              " (-8.409761566975275, 'heard loud'),\n",
              " (-8.409761566975275, 'heard loud bang'),\n",
              " (-8.409761566975275, 'hero'),\n",
              " (-8.409761566975275, 'hey'),\n",
              " (-8.409761566975275, 'hijack comput'),\n",
              " (-8.409761566975275, 'hijack comput send'),\n",
              " (-8.409761566975275, 'horribl subreddit'),\n",
              " (-8.409761566975275, 'horribl subreddit ban'),\n",
              " (-8.409761566975275, 'hors'),\n",
              " (-8.409761566975275, 'hot funtenna'),\n",
              " (-8.409761566975275, 'hot funtenna hijack'),\n",
              " (-8.409761566975275, 'industri'),\n",
              " (-8.409761566975275, 'kid'),\n",
              " (-8.409761566975275, 'killer'),\n",
              " (-8.409761566975275, 'ladi'),\n",
              " (-8.409761566975275, 'law'),\n",
              " (-8.409761566975275, 'limit'),\n",
              " (-8.409761566975275, 'lord'),\n",
              " (-8.409761566975275, 'lost'),\n",
              " (-8.409761566975275, 'loud bang nearbi'),\n",
              " (-8.409761566975275, 'mad'),\n",
              " (-8.409761566975275, 'mani horribl'),\n",
              " (-8.409761566975275, 'mani horribl subreddit'),\n",
              " (-8.409761566975275, 'meek'),\n",
              " (-8.409761566975275, 'meltdown'),\n",
              " (-8.409761566975275, 'men'),\n",
              " (-8.409761566975275, 'mention'),\n",
              " (-8.409761566975275, 'mine'),\n",
              " (-8.409761566975275, 'mom'),\n",
              " (-8.409761566975275, 'nearbi appear'),\n",
              " (-8.409761566975275, 'nearbi appear blast'),\n",
              " (-8.409761566975275, 'neighbour'),\n",
              " (-8.409761566975275, 'neighbour ass'),\n",
              " (-8.409761566975275, 'new content'),\n",
              " (-8.409761566975275, 'new content polici'),\n",
              " (-8.409761566975275, 'news unconfirm'),\n",
              " (-8.409761566975275, 'news unconfirm heard'),\n",
              " (-8.409761566975275, 'nigga'),\n",
              " (-8.409761566975275, 'oh'),\n",
              " (-8.409761566975275, 'okay'),\n",
              " (-8.409761566975275, 'onlin'),\n",
              " (-8.409761566975275, 'park'),\n",
              " (-8.409761566975275, 'parti'),\n",
              " (-8.409761566975275, 'phone'),\n",
              " (-8.409761566975275, 'playlist'),\n",
              " (-8.409761566975275, 'polici goe'),\n",
              " (-8.409761566975275, 'polici goe effect'),\n",
              " (-8.409761566975275, 'price'),\n",
              " (-8.409761566975275, 'probabl'),\n",
              " (-8.409761566975275, 'queen'),\n",
              " (-8.409761566975275, 'rather'),\n",
              " (-8.409761566975275, 'reason'),\n",
              " (-8.409761566975275, 'reddit new'),\n",
              " (-8.409761566975275, 'reddit new content'),\n",
              " (-8.409761566975275, 'remov'),\n",
              " (-8.409761566975275, 'ruin'),\n",
              " (-8.409761566975275, 'san'),\n",
              " (-8.409761566975275, 'scare'),\n",
              " (-8.409761566975275, 'secret'),\n",
              " (-8.409761566975275, 'seem'),\n",
              " (-8.409761566975275, 'self'),\n",
              " (-8.409761566975275, 'senat'),\n",
              " (-8.409761566975275, 'send data'),\n",
              " (-8.409761566975275, 'send data sound'),\n",
              " (-8.409761566975275, 'sens'),\n",
              " (-8.409761566975275, 'ship destroy'),\n",
              " (-8.409761566975275, 'side'),\n",
              " (-8.409761566975275, 'singl'),\n",
              " (-8.409761566975275, 'sit'),\n",
              " (-8.409761566975275, 'soon'),\n",
              " (-8.409761566975275, 'sound wave'),\n",
              " (-8.409761566975275, 'sound wave black'),\n",
              " (-8.409761566975275, 'sport'),\n",
              " (-8.409761566975275, 'step'),\n",
              " (-8.409761566975275, 'stretcher'),\n",
              " (-8.409761566975275, 'subreddit'),\n",
              " (-8.409761566975275, 'subreddit ban'),\n",
              " (-8.409761566975275, 'subreddit ban quarantin'),\n",
              " (-8.409761566975275, 'sure'),\n",
              " (-8.409761566975275, 'though'),\n",
              " (-8.409761566975275, 'troubl'),\n",
              " (-8.409761566975275, 'true'),\n",
              " (-8.409761566975275, 'trump'),\n",
              " (-8.409761566975275, 'unconfirm'),\n",
              " (-8.409761566975275, 'unconfirm heard'),\n",
              " (-8.409761566975275, 'unconfirm heard loud'),\n",
              " (-8.409761566975275, 'video youtub playlist'),\n",
              " (-8.409761566975275, 'wave black'),\n",
              " (-8.409761566975275, 'wave black hat'),\n",
              " (-8.409761566975275, 'weekend'),\n",
              " (-8.409761566975275, 'wind neighbour'),\n",
              " (-8.409761566975275, 'wind neighbour ass'),\n",
              " (-8.409761566975275, 'wonder'),\n",
              " (-8.409761566975275, 'wors'),\n",
              " (-8.409761566975275, 'wrong'),\n",
              " (-8.409761566975275, 'youtub playlist'),\n",
              " (-8.113495750832103, 'aba woman'),\n",
              " (-8.113495750832103, 'aba woman deliv'),\n",
              " (-8.113495750832103, 'anim'),\n",
              " (-8.113495750832103, 'answer'),\n",
              " (-8.113495750832103, 'anthrax lab'),\n",
              " (-8.113495750832103, 'anthrax lab mishap'),\n",
              " (-8.113495750832103, 'apart'),\n",
              " (-8.113495750832103, 'apollo'),\n",
              " (-8.113495750832103, 'apollo brown'),\n",
              " (-8.113495750832103, 'appear'),\n",
              " (-8.113495750832103, 'babi without'),\n",
              " (-8.113495750832103, 'babi without face'),\n",
              " (-8.113495750832103, 'believ'),\n",
              " (-8.113495750832103, 'big'),\n",
              " (-8.113495750832103, 'bioterror germ'),\n",
              " (-8.113495750832103, 'bioterror germ wake'),\n",
              " (-8.113495750832103, 'blown'),\n",
              " (-8.113495750832103, 'blue'),\n",
              " (-8.113495750832103, 'bring'),\n",
              " (-8.113495750832103, 'china stock'),\n",
              " (-8.113495750832103, 'china stock market'),\n",
              " (-8.113495750832103, 'claim'),\n",
              " (-8.113495750832103, 'compani'),\n",
              " (-8.113495750832103, 'comput'),\n",
              " (-8.113495750832103, 'cool'),\n",
              " (-8.113495750832103, 'crash gem'),\n",
              " (-8.113495750832103, 'crash gem rubbl'),\n",
              " (-8.113495750832103, 'declar northern marian'),\n",
              " (-8.113495750832103, 'drake'),\n",
              " (-8.113495750832103, 'emot'),\n",
              " (-8.113495750832103, 'event'),\n",
              " (-8.113495750832103, 'eyewit'),\n",
              " (-8.113495750832103, 'fall cliff'),\n",
              " (-8.113495750832103, 'far'),\n",
              " (-8.113495750832103, 'fat'),\n",
              " (-8.113495750832103, 'fire truck'),\n",
              " (-8.113495750832103, 'fish'),\n",
              " (-8.113495750832103, 'friend'),\n",
              " (-8.113495750832103, 'fun'),\n",
              " (-8.113495750832103, 'gem'),\n",
              " (-8.113495750832103, 'gem rubbl'),\n",
              " (-8.113495750832103, 'gener'),\n",
              " (-8.113495750832103, 'germ'),\n",
              " (-8.113495750832103, 'germ wake'),\n",
              " (-8.113495750832103, 'glad'),\n",
              " (-8.113495750832103, 'gun'),\n",
              " (-8.113495750832103, 'hellfir'),\n",
              " (-8.113495750832103, 'hold'),\n",
              " (-8.113495750832103, 'idea'),\n",
              " (-8.113495750832103, 'imagin'),\n",
              " (-8.113495750832103, 'includ'),\n",
              " (-8.113495750832103, 'inund'),\n",
              " (-8.113495750832103, 'join'),\n",
              " (-8.113495750832103, 'lab mishap'),\n",
              " (-8.113495750832103, 'lamp'),\n",
              " (-8.113495750832103, 'later'),\n",
              " (-8.113495750832103, 'lead'),\n",
              " (-8.113495750832103, 'listen'),\n",
              " (-8.113495750832103, 'london'),\n",
              " (-8.113495750832103, 'long'),\n",
              " (-8.113495750832103, 'longer transport bioterror'),\n",
              " (-8.113495750832103, 'lose'),\n",
              " (-8.113495750832103, 'marian'),\n",
              " (-8.113495750832103, 'market crash'),\n",
              " (-8.113495750832103, 'market crash gem'),\n",
              " (-8.113495750832103, 'mayb'),\n",
              " (-8.113495750832103, 'metal'),\n",
              " (-8.113495750832103, 'mishap'),\n",
              " (-8.113495750832103, 'money'),\n",
              " (-8.113495750832103, 'northern marian'),\n",
              " (-8.113495750832103, 'nuclear reactor'),\n",
              " (-8.113495750832103, 'oper'),\n",
              " (-8.113495750832103, 'owner'),\n",
              " (-8.113495750832103, 'panic'),\n",
              " (-8.113495750832103, 'phoenix'),\n",
              " (-8.113495750832103, 'polici'),\n",
              " (-8.113495750832103, 'potenti'),\n",
              " (-8.113495750832103, 'ppl'),\n",
              " (-8.113495750832103, 'press'),\n",
              " (-8.113495750832103, 'problem'),\n",
              " (-8.113495750832103, 'record'),\n",
              " (-8.113495750832103, 'research'),\n",
              " (-8.113495750832103, 'rip'),\n",
              " (-8.113495750832103, 'risk'),\n",
              " (-8.113495750832103, 'room'),\n",
              " (-8.113495750832103, 'safeti'),\n",
              " (-8.113495750832103, 'salt'),\n",
              " (-8.113495750832103, 'season'),\n",
              " (-8.113495750832103, 'seri'),\n",
              " (-8.113495750832103, 'shoulder'),\n",
              " (-8.113495750832103, 'small'),\n",
              " (-8.113495750832103, 'someon'),\n",
              " (-8.113495750832103, 'spot'),\n",
              " (-8.113495750832103, 'stand'),\n",
              " (-8.113495750832103, 'stock'),\n",
              " (-8.113495750832103, 'stock market'),\n",
              " (-8.113495750832103, 'stock market crash'),\n",
              " (-8.113495750832103, 'strong'),\n",
              " (-8.113495750832103, 'suspect kill'),\n",
              " (-8.113495750832103, 'team'),\n",
              " (-8.113495750832103, 'ten'),\n",
              " (-8.113495750832103, 'threat'),\n",
              " (-8.113495750832103, 'told'),\n",
              " (-8.113495750832103, 'transport bioterror'),\n",
              " (-8.113495750832103, 'transport bioterror germ'),\n",
              " (-8.113495750832103, 'trust'),\n",
              " (-8.113495750832103, 'tweet'),\n",
              " (-8.113495750832103, 'usatoday'),\n",
              " (-8.113495750832103, 'user'),\n",
              " (-8.113495750832103, 'usual'),\n",
              " (-8.113495750832103, 'veteran'),\n",
              " (-8.113495750832103, 'via youtub'),\n",
              " (-8.113495750832103, 'video youtub'),\n",
              " (-8.113495750832103, 'vote'),\n",
              " (-8.113495750832103, 'vs'),\n",
              " (-8.113495750832103, 'wake anthrax'),\n",
              " (-8.113495750832103, 'wake anthrax lab'),\n",
              " (-8.113495750832103, 'walk'),\n",
              " (-8.113495750832103, 'wanna'),\n",
              " (-8.113495750832103, 'white'),\n",
              " (-8.113495750832103, 'win'),\n",
              " (-8.113495750832103, 'without face'),\n",
              " (-8.113495750832103, 'without face photo'),\n",
              " (-8.113495750832103, 'woman deliv'),\n",
              " (-8.113495750832103, 'yeah'),\n",
              " (-7.885237098851122, 'aba'),\n",
              " (-7.885237098851122, 'actual'),\n",
              " (-7.885237098851122, 'af'),\n",
              " (-7.885237098851122, 'alway'),\n",
              " (-7.885237098851122, 'anyth'),\n",
              " (-7.885237098851122, 'apocalyps'),\n",
              " (-7.885237098851122, 'armageddon'),\n",
              " (-7.885237098851122, 'arsonist'),\n",
              " (-7.885237098851122, 'ash'),\n",
              " (-7.885237098851122, 'ban'),\n",
              " (-7.885237098851122, 'becom'),\n",
              " (-7.885237098851122, 'blaze'),\n",
              " (-7.885237098851122, 'brown'),\n",
              " (-7.885237098851122, 'chicago'),\n",
              " (-7.885237098851122, 'child'),\n",
              " (-7.885237098851122, 'coach'),\n",
              " (-7.885237098851122, 'concern'),\n",
              " (-7.885237098851122, 'content'),\n",
              " (-7.885237098851122, 'control'),\n",
              " (-7.885237098851122, 'crazi'),\n",
              " (-7.885237098851122, 'creat'),\n",
              " (-7.885237098851122, 'curfew'),\n",
              " (-7.885237098851122, 'current'),\n",
              " (-7.885237098851122, 'declar northern'),\n",
              " (-7.885237098851122, 'deliv'),\n",
              " (-7.885237098851122, 'delug'),\n",
              " (-7.885237098851122, 'demolit'),\n",
              " (-7.885237098851122, 'differ'),\n",
              " (-7.885237098851122, 'disast declar northern'),\n",
              " (-7.885237098851122, 'dog'),\n",
              " (-7.885237098851122, 'drop'),\n",
              " (-7.885237098851122, 'dude'),\n",
              " (-7.885237098851122, 'els'),\n",
              " (-7.885237098851122, 'ever'),\n",
              " (-7.885237098851122, 'explor'),\n",
              " (-7.885237098851122, 'extrem'),\n",
              " (-7.885237098851122, 'fast'),\n",
              " (-7.885237098851122, 'fedex longer transport'),\n",
              " (-7.885237098851122, 'final'),\n",
              " (-7.885237098851122, 'franc'),\n",
              " (-7.885237098851122, 'free'),\n",
              " (-7.885237098851122, 'front'),\n",
              " (-7.885237098851122, 'game'),\n",
              " (-7.885237098851122, 'god'),\n",
              " (-7.885237098851122, 'goe'),\n",
              " (-7.885237098851122, 'gold'),\n",
              " (-7.885237098851122, 'guy'),\n",
              " (-7.885237098851122, 'hate'),\n",
              " (-7.885237098851122, 'hell'),\n",
              " (-7.885237098851122, 'hijack apc'),\n",
              " (-7.885237098851122, 'human'),\n",
              " (-7.885237098851122, 'instead'),\n",
              " (-7.885237098851122, 'islam state'),\n",
              " (-7.885237098851122, 'jonathan'),\n",
              " (-7.885237098851122, 'lake'),\n",
              " (-7.885237098851122, 'last night'),\n",
              " (-7.885237098851122, 'left'),\n",
              " (-7.885237098851122, 'lie'),\n",
              " (-7.885237098851122, 'like youtub'),\n",
              " (-7.885237098851122, 'like youtub video'),\n",
              " (-7.885237098851122, 'local'),\n",
              " (-7.885237098851122, 'lol'),\n",
              " (-7.885237098851122, 'longer transport'),\n",
              " (-7.885237098851122, 'mean'),\n",
              " (-7.885237098851122, 'meet'),\n",
              " (-7.885237098851122, 'middl'),\n",
              " (-7.885237098851122, 'might'),\n",
              " (-7.885237098851122, 'nearli'),\n",
              " (-7.885237098851122, 'new york'),\n",
              " (-7.885237098851122, 'noth'),\n",
              " (-7.885237098851122, 'ny'),\n",
              " (-7.885237098851122, 'part'),\n",
              " (-7.885237098851122, 'patienc'),\n",
              " (-7.885237098851122, 'patienc jonathan'),\n",
              " (-7.885237098851122, 'person'),\n",
              " (-7.885237098851122, 'pictur'),\n",
              " (-7.885237098851122, 'place'),\n",
              " (-7.885237098851122, 'polit'),\n",
              " (-7.885237098851122, 'pray'),\n",
              " (-7.885237098851122, 'question'),\n",
              " (-7.885237098851122, 'radio'),\n",
              " (-7.885237098851122, 'reach'),\n",
              " (-7.885237098851122, 'reactor'),\n",
              " (-7.885237098851122, 'readi'),\n",
              " (-7.885237098851122, 'reddit'),\n",
              " (-7.885237098851122, 'reduc'),\n",
              " (-7.885237098851122, 'remind'),\n",
              " (-7.885237098851122, 'respons'),\n",
              " (-7.885237098851122, 'result'),\n",
              " (-7.885237098851122, 'russian'),\n",
              " (-7.885237098851122, 'sad'),\n",
              " (-7.885237098851122, 'sea'),\n",
              " (-7.885237098851122, 'secur'),\n",
              " (-7.885237098851122, 'seismic'),\n",
              " (-7.885237098851122, 'sound'),\n",
              " (-7.885237098851122, 'star'),\n",
              " (-7.885237098851122, 'sunday'),\n",
              " (-7.885237098851122, 'suppos'),\n",
              " (-7.885237098851122, 'target'),\n",
              " (-7.885237098851122, 'tent'),\n",
              " (-7.885237098851122, 'test'),\n",
              " (-7.885237098851122, 'texa'),\n",
              " (-7.885237098851122, 'tsunami'),\n",
              " (-7.885237098851122, 'turn'),\n",
              " (-7.885237098851122, 'upheav'),\n",
              " (-7.885237098851122, 'whirlwind'),\n",
              " (-7.885237098851122, 'without'),\n",
              " (-7.885237098851122, 'word'),\n",
              " (-7.885237098851122, 'youtub video'),\n",
              " (-7.699519953056029, 'abandon'),\n",
              " (-7.699519953056029, 'across'),\n",
              " (-7.699519953056029, 'activ'),\n",
              " (-7.699519953056029, 'agre'),\n",
              " (-7.699519953056029, 'allow'),\n",
              " (-7.699519953056029, 'anthrax'),\n",
              " (-7.699519953056029, 'apc'),\n",
              " (-7.699519953056029, 'arrest'),\n",
              " (-7.699519953056029, 'author'),\n",
              " (-7.699519953056029, 'ave'),\n",
              " (-7.699519953056029, 'bad'),\n",
              " (-7.699519953056029, 'bang'),\n",
              " (-7.699519953056029, 'base'),\n",
              " (-7.699519953056029, 'bayelsa'),\n",
              " (-7.699519953056029, 'bc'),\n",
              " (-7.699519953056029, 'beauti'),\n",
              " (-7.699519953056029, 'board'),\n",
              " (-7.699519953056029, 'bodi bag'),\n",
              " (-7.699519953056029, 'break news'),\n",
              " (-7.699519953056029, 'cost'),\n",
              " (-7.699519953056029, 'damn'),\n",
              " (-7.699519953056029, 'deal'),\n",
              " (-7.699519953056029, 'devast saipan obama'),\n",
              " (-7.699519953056029, 'disast declar'),\n",
              " (-7.699519953056029, 'dr'),\n",
              " (-7.699519953056029, 'drive'),\n",
              " (-7.699519953056029, 'driver'),\n",
              " (-7.699519953056029, 'fedex longer'),\n",
              " (-7.699519953056029, 'feel'),\n",
              " (-7.699519953056029, 'first respond'),\n",
              " (-7.699519953056029, 'former'),\n",
              " (-7.699519953056029, 'four'),\n",
              " (-7.699519953056029, 'freak'),\n",
              " (-7.699519953056029, 'gbbo'),\n",
              " (-7.699519953056029, 'girl'),\n",
              " (-7.699519953056029, 'give'),\n",
              " (-7.699519953056029, 'gonna'),\n",
              " (-7.699519953056029, 'govt'),\n",
              " (-7.699519953056029, 'great'),\n",
              " (-7.699519953056029, 'hand'),\n",
              " (-7.699519953056029, 'heard'),\n",
              " (-7.699519953056029, 'high'),\n",
              " (-7.699519953056029, 'info'),\n",
              " (-7.699519953056029, 'intern displac'),\n",
              " (-7.699519953056029, 'involv'),\n",
              " (-7.699519953056029, 'larg'),\n",
              " (-7.699519953056029, 'lava'),\n",
              " (-7.699519953056029, 'lift'),\n",
              " (-7.699519953056029, 'link'),\n",
              " (-7.699519953056029, 'lot'),\n",
              " (-7.699519953056029, 'loud'),\n",
              " (-7.699519953056029, 'loud bang'),\n",
              " (-7.699519953056029, 'low'),\n",
              " (-7.699519953056029, 'lt'),\n",
              " (-7.699519953056029, 'moment'),\n",
              " (-7.699519953056029, 'month'),\n",
              " (-7.699519953056029, 'nation forest'),\n",
              " (-7.699519953056029, 'nearbi'),\n",
              " (-7.699519953056029, 'non'),\n",
              " (-7.699519953056029, 'number'),\n",
              " (-7.699519953056029, 'nyc'),\n",
              " (-7.699519953056029, 'obama sign'),\n",
              " (-7.699519953056029, 'obama sign disast'),\n",
              " (-7.699519953056029, 'open'),\n",
              " (-7.699519953056029, 'pain'),\n",
              " (-7.699519953056029, 'pandemonium'),\n",
              " (-7.699519953056029, 'pass'),\n",
              " (-7.699519953056029, 'piec'),\n",
              " (-7.699519953056029, 'potu'),\n",
              " (-7.699519953056029, 'prepar'),\n",
              " (-7.699519953056029, 'public'),\n",
              " (-7.699519953056029, 'pull'),\n",
              " (-7.699519953056029, 'read'),\n",
              " (-7.699519953056029, 'rememb'),\n",
              " (-7.699519953056029, 'rubbl'),\n",
              " (-7.699519953056029, 'saipan obama'),\n",
              " (-7.699519953056029, 'saipan obama sign'),\n",
              " (-7.699519953056029, 'seattl'),\n",
              " (-7.699519953056029, 'shift'),\n",
              " (-7.699519953056029, 'sign disast'),\n",
              " (-7.699519953056029, 'sign disast declar'),\n",
              " (-7.699519953056029, 'sink'),\n",
              " (-7.699519953056029, 'siren'),\n",
              " (-7.699519953056029, 'site'),\n",
              " (-7.699519953056029, 'snow'),\n",
              " (-7.699519953056029, 'spring'),\n",
              " (-7.699519953056029, 'sunk'),\n",
              " (-7.699519953056029, 'thought'),\n",
              " (-7.699519953056029, 'toddler'),\n",
              " (-7.699519953056029, 'tragedi'),\n",
              " (-7.699519953056029, 'transport'),\n",
              " (-7.699519953056029, 'uk'),\n",
              " (-7.699519953056029, 'upset'),\n",
              " (-7.699519953056029, 'usa'),\n",
              " (-7.699519953056029, 'violent storm'),\n",
              " (-7.699519953056029, 'wait'),\n",
              " (-7.699519953056029, 'war zone'),\n",
              " (-7.699519953056029, 'wash'),\n",
              " (-7.699519953056029, 'wed'),\n",
              " (-7.699519953056029, 'week'),\n",
              " (-7.699519953056029, 'windstorm'),\n",
              " (-7.699519953056029, 'ye'),\n",
              " (-7.699519953056029, 'year ago'),\n",
              " (-7.699519953056029, 'yet'),\n",
              " (-7.699519953056029, 'york'),\n",
              " (-7.699519953056029, 'young'),\n",
              " (-7.542950892364489, 'abc'),\n",
              " (-7.542950892364489, 'air ambul'),\n",
              " (-7.542950892364489, 'also'),\n",
              " (-7.542950892364489, 'angri'),\n",
              " (-7.542950892364489, 'arm'),\n",
              " (-7.542950892364489, 'ass'),\n",
              " (-7.542950892364489, 'bag'),\n",
              " (-7.542950892364489, 'begin'),\n",
              " (-7.542950892364489, 'bit'),\n",
              " (-7.542950892364489, 'came'),\n",
              " (-7.542950892364489, 'cancer'),\n",
              " (-7.542950892364489, 'care'),\n",
              " (-7.542950892364489, 'caught'),\n",
              " (-7.542950892364489, 'centr'),\n",
              " (-7.542950892364489, 'climat'),\n",
              " (-7.542950892364489, 'coast'),\n",
              " (-7.542950892364489, 'continu'),\n",
              " (-7.542950892364489, 'cut'),\n",
              " (-7.542950892364489, 'daili'),\n",
              " (-7.542950892364489, 'declar disast'),\n",
              " (-7.542950892364489, 'declar disast typhoon'),\n",
              " (-7.542950892364489, 'delay'),\n",
              " (-7.542950892364489, 'demolish'),\n",
              " (-7.542950892364489, 'desol'),\n",
              " (-7.542950892364489, 'destruct'),\n",
              " (-7.542950892364489, 'devast saipan'),\n",
              " (-7.542950892364489, 'disast typhoon'),\n",
              " (-7.542950892364489, 'disast typhoon devast'),\n",
              " (-7.542950892364489, 'earli'),\n",
              " (-7.542950892364489, 'escap'),\n",
              " (-7.542950892364489, 'everi'),\n",
              " (-7.542950892364489, 'famin memori'),\n",
              " (-7.542950892364489, 'fan'),\n",
              " (-7.542950892364489, 'film'),\n",
              " (-7.542950892364489, 'found reunion'),\n",
              " (-7.542950892364489, 'found reunion island'),\n",
              " (-7.542950892364489, 'health'),\n",
              " (-7.542950892364489, 'hear'),\n",
              " (-7.542950892364489, 'heart'),\n",
              " (-7.542950892364489, 'helicopt crash'),\n",
              " (-7.542950892364489, 'histori'),\n",
              " (-7.542950892364489, 'im'),\n",
              " (-7.542950892364489, 'imag'),\n",
              " (-7.542950892364489, 'indian'),\n",
              " (-7.542950892364489, 'insur'),\n",
              " (-7.542950892364489, 'isi'),\n",
              " (-7.542950892364489, 'japan mark'),\n",
              " (-7.542950892364489, 'la'),\n",
              " (-7.542950892364489, 'lane'),\n",
              " (-7.542950892364489, 'learn'),\n",
              " (-7.542950892364489, 'liter'),\n",
              " (-7.542950892364489, 'longer'),\n",
              " (-7.542950892364489, 'made'),\n",
              " (-7.542950892364489, 'map'),\n",
              " (-7.542950892364489, 'mark th anniversari'),\n",
              " (-7.542950892364489, 'metro'),\n",
              " (-7.542950892364489, 'mile'),\n",
              " (-7.542950892364489, 'nw'),\n",
              " (-7.542950892364489, 'obama declar disast'),\n",
              " (-7.542950892364489, 'obliter'),\n",
              " (-7.542950892364489, 'occur'),\n",
              " (-7.542950892364489, 'pakistani'),\n",
              " (-7.542950892364489, 'palestinian'),\n",
              " (-7.542950892364489, 'polic offic wound'),\n",
              " (-7.542950892364489, 'properti'),\n",
              " (-7.542950892364489, 'quarantin'),\n",
              " (-7.542950892364489, 'rate'),\n",
              " (-7.542950892364489, 'raze'),\n",
              " (-7.542950892364489, 'remain'),\n",
              " (-7.542950892364489, 'richmond'),\n",
              " (-7.542950892364489, 'russia'),\n",
              " (-7.542950892364489, 'saipan'),\n",
              " (-7.542950892364489, 'school bu'),\n",
              " (-7.542950892364489, 'scream'),\n",
              " (-7.542950892364489, 'share'),\n",
              " (-7.542950892364489, 'sky'),\n",
              " (-7.542950892364489, 'so'),\n",
              " (-7.542950892364489, 'thousand'),\n",
              " (-7.542950892364489, 'thunder'),\n",
              " (-7.542950892364489, 'tomorrow'),\n",
              " (-7.542950892364489, 'top'),\n",
              " (-7.542950892364489, 'trap'),\n",
              " (-7.542950892364489, 'twitter'),\n",
              " (-7.542950892364489, 'two peopl'),\n",
              " (-7.542950892364489, 'typhoon devast'),\n",
              " (-7.542950892364489, 'typhoon devast saipan'),\n",
              " (-7.542950892364489, 'ur'),\n",
              " (-7.542950892364489, 'vehicl'),\n",
              " (-7.542950892364489, 'visit'),\n",
              " (-7.542950892364489, 'wake'),\n",
              " (-7.542950892364489, 'washington'),\n",
              " (-7.542950892364489, 'wednesday'),\n",
              " (-7.542950892364489, 'woman'),\n",
              " (-7.542950892364489, 'worri'),\n",
              " (-7.542950892364489, 'wreck'),\n",
              " (-7.407609544494727, 'almost'),\n",
              " (-7.407609544494727, 'america'),\n",
              " (-7.407609544494727, 'annihil'),\n",
              " (-7.407609544494727, 'arriv'),\n",
              " (-7.407609544494727, 'attack polic'),\n",
              " (-7.407609544494727, 'attack polic post'),\n",
              " (-7.407609544494727, 'australia'),\n",
              " (-7.407609544494727, 'babi'),\n",
              " (-7.407609544494727, 'battl'),\n",
              " (-7.407609544494727, 'blast'),\n",
              " (-7.407609544494727, 'block'),\n",
              " (-7.407609544494727, 'blood'),\n",
              " (-7.407609544494727, 'british'),\n",
              " (-7.407609544494727, 'busi'),\n",
              " (-7.407609544494727, 'ca'),\n",
              " (-7.407609544494727, 'camp'),\n",
              " (-7.407609544494727, 'check'),\n",
              " (-7.407609544494727, 'civilian'),\n",
              " (-7.407609544494727, 'cliff'),\n",
              " (-7.407609544494727, 'diseas'),\n",
              " (-7.407609544494727, 'done'),\n",
              " (-7.407609544494727, 'emerg plan'),\n",
              " (-7.407609544494727, 'engulf'),\n",
              " (-7.407609544494727, 'exchang'),\n",
              " (-7.407609544494727, 'eye'),\n",
              " (-7.407609544494727, 'fire alarm'),\n",
              " (-7.407609544494727, 'full'),\n",
              " (-7.407609544494727, 'giant'),\n",
              " (-7.407609544494727, 'global'),\n",
              " (-7.407609544494727, 'got'),\n",
              " (-7.407609544494727, 'green'),\n",
              " (-7.407609544494727, 'heat wave'),\n",
              " (-7.407609544494727, 'heavi'),\n",
              " (-7.407609544494727, 'huge'),\n",
              " (-7.407609544494727, 'israel'),\n",
              " (-7.407609544494727, 'market'),\n",
              " (-7.407609544494727, 'member'),\n",
              " (-7.407609544494727, 'mountain'),\n",
              " (-7.407609544494727, 'mp'),\n",
              " (-7.407609544494727, 'nd'),\n",
              " (-7.407609544494727, 'northern california'),\n",
              " (-7.407609544494727, 'nuclear weapon'),\n",
              " (-7.407609544494727, 'obama declar'),\n",
              " (-7.407609544494727, 'offic wound'),\n",
              " (-7.407609544494727, 'offic wound suspect'),\n",
              " (-7.407609544494727, 'omg'),\n",
              " (-7.407609544494727, 'other'),\n",
              " (-7.407609544494727, 'outsid'),\n",
              " (-7.407609544494727, 'polic offic'),\n",
              " (-7.407609544494727, 'poor'),\n",
              " (-7.407609544494727, 'real'),\n",
              " (-7.407609544494727, 'realli'),\n",
              " (-7.407609544494727, 'rise'),\n",
              " (-7.407609544494727, 'rock'),\n",
              " (-7.407609544494727, 'rocki'),\n",
              " (-7.407609544494727, 'roosevelt'),\n",
              " (-7.407609544494727, 'second'),\n",
              " (-7.407609544494727, 'send'),\n",
              " (-7.407609544494727, 'ship'),\n",
              " (-7.407609544494727, 'sick'),\n",
              " (-7.407609544494727, 'snowstorm'),\n",
              " (-7.407609544494727, 'someth'),\n",
              " (-7.407609544494727, 'stay'),\n",
              " (-7.407609544494727, 'taken'),\n",
              " (-7.407609544494727, 'tell'),\n",
              " (-7.407609544494727, 'th anniversari'),\n",
              " (-7.407609544494727, 'time utc'),\n",
              " (-7.407609544494727, 'town'),\n",
              " (-7.407609544494727, 'trfc'),\n",
              " (-7.407609544494727, 'trfc collis'),\n",
              " (-7.407609544494727, 'tri'),\n",
              " (-7.407609544494727, 'wall'),\n",
              " (-7.407609544494727, 'whole'),\n",
              " (-7.407609544494727, 'worst'),\n",
              " (-7.407609544494727, 'wound suspect'),\n",
              " (-7.288421027229608, 'aircraft'),\n",
              " (-7.288421027229608, 'airplan accid'),\n",
              " (-7.288421027229608, 'armi trench releas'),\n",
              " (-7.288421027229608, 'avoid'),\n",
              " (-7.288421027229608, 'away'),\n",
              " (-7.288421027229608, 'captur'),\n",
              " (-7.288421027229608, 'case'),\n",
              " (-7.288421027229608, 'children'),\n",
              " (-7.288421027229608, 'cop'),\n",
              " (-7.288421027229608, 'countri'),\n",
              " (-7.288421027229608, 'danger'),\n",
              " (-7.288421027229608, 'debri found'),\n",
              " (-7.288421027229608, 'disea'),\n",
              " (-7.288421027229608, 'downtown'),\n",
              " (-7.288421027229608, 'everyon'),\n",
              " (-7.288421027229608, 'expert'),\n",
              " (-7.288421027229608, 'face'),\n",
              " (-7.288421027229608, 'find'),\n",
              " (-7.288421027229608, 'fire burn'),\n",
              " (-7.288421027229608, 'flight'),\n",
              " (-7.288421027229608, 'forest fire'),\n",
              " (-7.288421027229608, 'foxnew'),\n",
              " (-7.288421027229608, 'fuck'),\n",
              " (-7.288421027229608, 'fukushima'),\n",
              " (-7.288421027229608, 'ga'),\n",
              " (-7.288421027229608, 'good'),\n",
              " (-7.288421027229608, 'govern'),\n",
              " (-7.288421027229608, 'half'),\n",
              " (-7.288421027229608, 'horror'),\n",
              " (-7.288421027229608, 'islam'),\n",
              " (-7.288421027229608, 'lab'),\n",
              " (-7.288421027229608, 'land stadium'),\n",
              " (-7.288421027229608, 'land stadium rescu'),\n",
              " (-7.288421027229608, 'least'),\n",
              " (-7.288421027229608, 'legionnair disea'),\n",
              " (-7.288421027229608, 'let'),\n",
              " (-7.288421027229608, 'libya'),\n",
              " (-7.288421027229608, 'love'),\n",
              " (-7.288421027229608, 'modifi'),\n",
              " (-7.288421027229608, 'modifi land'),\n",
              " (-7.288421027229608, 'modifi land stadium'),\n",
              " (-7.288421027229608, 'morn'),\n",
              " (-7.288421027229608, 'movi'),\n",
              " (-7.288421027229608, 'much'),\n",
              " (-7.288421027229608, 'never'),\n",
              " (-7.288421027229608, 'night'),\n",
              " (-7.288421027229608, 'outbreak legionnair disea'),\n",
              " (-7.288421027229608, 'outrag'),\n",
              " (-7.288421027229608, 'pakistan'),\n",
              " (-7.288421027229608, 'pilot'),\n",
              " (-7.288421027229608, 'prebreak'),\n",
              " (-7.288421027229608, 'prebreak best'),\n",
              " (-7.288421027229608, 'rescu hostag'),\n",
              " (-7.288421027229608, 'rescu hostag iran'),\n",
              " (-7.288421027229608, 'saw'),\n",
              " (-7.288421027229608, 'special modifi'),\n",
              " (-7.288421027229608, 'special modifi land'),\n",
              " (-7.288421027229608, 'stadium'),\n",
              " (-7.288421027229608, 'stadium rescu'),\n",
              " (-7.288421027229608, 'stadium rescu hostag'),\n",
              " (-7.288421027229608, 'structur failur'),\n",
              " (-7.288421027229608, 'struggl'),\n",
              " (-7.288421027229608, 'student'),\n",
              " (-7.288421027229608, 'support'),\n",
              " (-7.288421027229608, 'taiwan'),\n",
              " (-7.288421027229608, 'talk'),\n",
              " (-7.288421027229608, 'thank'),\n",
              " (-7.288421027229608, 'threaten'),\n",
              " (-7.288421027229608, 'thursday'),\n",
              " (-7.288421027229608, 'track'),\n",
              " (-7.288421027229608, 'trench releas'),\n",
              " (-7.288421027229608, 'udhampur'),\n",
              " (-7.288421027229608, 'unit'),\n",
              " (-7.288421027229608, 'went'),\n",
              " (-7.288421027229608, 'western'),\n",
              " (-7.288421027229608, 'zone'),\n",
              " (-7.181937546827159, 'act'),\n",
              " (-7.181937546827159, 'action'),\n",
              " (-7.181937546827159, 'ago'),\n",
              " (-7.181937546827159, 'arson'),\n",
              " (-7.181937546827159, 'august pm'),\n",
              " (-7.181937546827159, 'bicyclist'),\n",
              " (-7.181937546827159, 'bigger project'),\n",
              " (-7.181937546827159, 'black'),\n",
              " (-7.181937546827159, 'bodi water'),\n",
              " (-7.181937546827159, 'bodi water rescuer'),\n",
              " (-7.181937546827159, 'build fire'),\n",
              " (-7.181937546827159, 'cdt'),\n",
              " (-7.181937546827159, 'chang'),\n",
              " (-7.181937546827159, 'chemic'),\n",
              " (-7.181937546827159, 'co'),\n",
              " (-7.181937546827159, 'costlier'),\n",
              " (-7.181937546827159, 'costlier bigger'),\n",
              " (-7.181937546827159, 'costlier bigger project'),\n",
              " (-7.181937546827159, 'crew'),\n",
              " (-7.181937546827159, 'cross'),\n",
              " (-7.181937546827159, 'dust storm'),\n",
              " (-7.181937546827159, 'east'),\n",
              " (-7.181937546827159, 'electrocut'),\n",
              " (-7.181937546827159, 'estim'),\n",
              " (-7.181937546827159, 'etc'),\n",
              " (-7.181937546827159, 'failur'),\n",
              " (-7.181937546827159, 'fatal outbreak legionnair'),\n",
              " (-7.181937546827159, 'fedex'),\n",
              " (-7.181937546827159, 'fight'),\n",
              " (-7.181937546827159, 'firefight'),\n",
              " (-7.181937546827159, 'food'),\n",
              " (-7.181937546827159, 'group'),\n",
              " (-7.181937546827159, 'grow'),\n",
              " (-7.181937546827159, 'gt'),\n",
              " (-7.181937546827159, 'hiroshima nagasaki'),\n",
              " (-7.181937546827159, 'hostag iran'),\n",
              " (-7.181937546827159, 'hour'),\n",
              " (-7.181937546827159, 'intern'),\n",
              " (-7.181937546827159, 'level'),\n",
              " (-7.181937546827159, 'lightn'),\n",
              " (-7.181937546827159, 'may costlier'),\n",
              " (-7.181937546827159, 'may costlier bigger'),\n",
              " (-7.181937546827159, 'media'),\n",
              " (-7.181937546827159, 'million'),\n",
              " (-7.181937546827159, 'mudslid'),\n",
              " (-7.181937546827159, 'natur disast'),\n",
              " (-7.181937546827159, 'oil spill may'),\n",
              " (-7.181937546827159, 'past'),\n",
              " (-7.181937546827159, 'pick bodi'),\n",
              " (-7.181937546827159, 'pick bodi water'),\n",
              " (-7.181937546827159, 'pm cdt'),\n",
              " (-7.181937546827159, 'polic post'),\n",
              " (-7.181937546827159, 'predict'),\n",
              " (-7.181937546827159, 'refugio'),\n",
              " (-7.181937546827159, 'refugio oil'),\n",
              " (-7.181937546827159, 'refugio oil spill'),\n",
              " (-7.181937546827159, 'return'),\n",
              " (-7.181937546827159, 'reunion island'),\n",
              " (-7.181937546827159, 'smoke'),\n",
              " (-7.181937546827159, 'special'),\n",
              " (-7.181937546827159, 'spill may'),\n",
              " (-7.181937546827159, 'spill may costlier'),\n",
              " (-7.181937546827159, 'start'),\n",
              " (-7.181937546827159, 'street'),\n",
              " (-7.181937546827159, 'strike'),\n",
              " (-7.181937546827159, 'summer'),\n",
              " (-7.181937546827159, 'tonight'),\n",
              " (-7.181937546827159, 'video pick'),\n",
              " (-7.181937546827159, 'video pick bodi'),\n",
              " (-7.181937546827159, 'water rescuer'),\n",
              " (-7.181937546827159, 'water rescuer search'),\n",
              " (-7.085709514732605, 'affect fatal'),\n",
              " (-7.085709514732605, 'affect fatal outbreak'),\n",
              " (-7.085709514732605, 'ambul'),\n",
              " (-7.085709514732605, 'amid'),\n",
              " (-7.085709514732605, 'armi trench'),\n",
              " (-7.085709514732605, 'attack muslim'),\n",
              " (-7.085709514732605, 'attack muslim templ'),\n",
              " (-7.085709514732605, 'aug'),\n",
              " (-7.085709514732605, 'bigger'),\n",
              " (-7.085709514732605, 'boat'),\n",
              " (-7.085709514732605, 'bomb turkey armi'),\n",
              " (-7.085709514732605, 'boy charg manslaught'),\n",
              " (-7.085709514732605, 'bu'),\n",
              " (-7.085709514732605, 'bush fire'),\n",
              " (-7.085709514732605, 'center'),\n",
              " ...]"
            ]
          },
          "metadata": {
            "tags": []
          },
          "execution_count": 39
        }
      ]
    }
  ]
}